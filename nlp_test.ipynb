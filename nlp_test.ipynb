{
 "cells": [
  {
   "cell_type": "markdown",
   "metadata": {
    "id": "jqp6RGEjFvLf"
   },
   "source": [
    "# **EDF R&D Digital Innovation – NLP Test**\n",
    "\n",
    "---\n",
    "\n",
    "Welcome to the NLP technical test. The purpose of this test is to evaluate your coding skills and your understanding of some fundamental concepts in NLP. Please note that we will not judge you based on evaluation metrics or the final performance of your algorithm. Instead, we want to understand how you approach this challenge, so we will pay attention to how you frame the problem, what techniques you use and any clever tricks you apply, the frameworks you choose, how you approach modelling and your overall reasoning and use of critical thinking. Therefore, documenting your reasoning is highly encouraged.\n",
    "\n",
    "Regarding computational resources, the google colab free tier GPU should be enough for a working solution to this challenge; you are not expected to pay out of your pocket to rent GPU time or consume your own LLM credits, and you will not be reimbursed. The dataset chosen here is challenging and we don't expect a perfect solution within the timeframe and resources allowed; as mentioned before, we will not judge you on the metrics you obtain but on your approach to the problem. With this in mind, feel free to leverage any resources you may want to use, as long as the final version of this notebook is self-contained.\n",
    "\n",
    "Usage of AI is allowed but we expect you will be transparent about AI assistance, and you will be able to justify any given line of code on request.\n",
    "\n",
    "Finally, please ensure that the outputs of all your cells are visible when you upload your solution.\n",
    "If you have any questions or need any support with this test, please email: gustavo.medinavazquez@edfenergy.com\n",
    "\n",
    "Good luck!\n",
    "\n",
    "---\n"
   ]
  },
  {
   "cell_type": "markdown",
   "metadata": {
    "id": "b3b5L4MLSoQQ"
   },
   "source": [
    "*Candidate Name: Luc Rolland"
   ]
  },
  {
   "cell_type": "markdown",
   "metadata": {
    "id": "DhJ_Qi7GGkaa"
   },
   "source": [
    "# Instructions"
   ]
  },
  {
   "cell_type": "markdown",
   "metadata": {
    "id": "9EXpns_IGoqS"
   },
   "source": [
    "The objective is to build a text classifier to identify toxic comments. We have segmented this notebook into different sections but this structure is just a suggestion, please feel free to adapt the sections to your own working style. The only fixed requirements are that you should develop a model and provide an evaluation of your solution. In particular, we will look for:\n",
    "* Data exploration and cleaning (if needed)\n",
    "* Data pipelines and pre/post-processing methods (if any)\n",
    "* How to evaluate the performance of the model\n",
    "* How you build and optimise an NLP model\n",
    "* Visualisations or analysis of the results and the data\n",
    "* Code organisation and readability\n",
    "\n",
    "Documenting your notebook is highly encouraged."
   ]
  },
  {
   "cell_type": "markdown",
   "metadata": {
    "id": "VnDDjn4TzCug"
   },
   "source": [
    "We will use the mteb toxic comments dataset: https://huggingface.co/datasets/mteb/toxic_conversations_50k\n",
    "The cells in this section download the training and testing splits of the dataset in the form of a HuggingFace dataset object."
   ]
  },
  {
   "cell_type": "code",
   "execution_count": 1,
   "metadata": {
    "colab": {
     "base_uri": "https://localhost:8080/"
    },
    "collapsed": true,
    "executionInfo": {
     "elapsed": 28383,
     "status": "ok",
     "timestamp": 1721036226506,
     "user": {
      "displayName": "Gustavo Medina Vazquez",
      "userId": "11607975607888255946"
     },
     "user_tz": -60
    },
    "id": "PQeFZVjvEpGB",
    "outputId": "08a2aff7-4433-45df-9f10-45abfce5f8ad"
   },
   "outputs": [
    {
     "name": "stdout",
     "output_type": "stream",
     "text": [
      "Collecting datasets\n",
      "  Using cached datasets-4.0.0-py3-none-any.whl.metadata (19 kB)\n",
      "Collecting filelock (from datasets)\n",
      "  Using cached filelock-3.18.0-py3-none-any.whl.metadata (2.9 kB)\n",
      "Collecting numpy>=1.17 (from datasets)\n",
      "  Using cached numpy-2.3.2-cp313-cp313-macosx_14_0_arm64.whl.metadata (62 kB)\n",
      "Collecting pyarrow>=15.0.0 (from datasets)\n",
      "  Downloading pyarrow-21.0.0-cp313-cp313-macosx_12_0_arm64.whl.metadata (3.3 kB)\n",
      "Collecting dill<0.3.9,>=0.3.0 (from datasets)\n",
      "  Using cached dill-0.3.8-py3-none-any.whl.metadata (10 kB)\n",
      "Collecting pandas (from datasets)\n",
      "  Using cached pandas-2.3.1-cp313-cp313-macosx_11_0_arm64.whl.metadata (91 kB)\n",
      "Collecting requests>=2.32.2 (from datasets)\n",
      "  Using cached requests-2.32.4-py3-none-any.whl.metadata (4.9 kB)\n",
      "Collecting tqdm>=4.66.3 (from datasets)\n",
      "  Using cached tqdm-4.67.1-py3-none-any.whl.metadata (57 kB)\n",
      "Collecting xxhash (from datasets)\n",
      "  Downloading xxhash-3.5.0-cp313-cp313-macosx_11_0_arm64.whl.metadata (12 kB)\n",
      "Collecting multiprocess<0.70.17 (from datasets)\n",
      "  Using cached multiprocess-0.70.16-py312-none-any.whl.metadata (7.2 kB)\n",
      "Collecting fsspec<=2025.3.0,>=2023.1.0 (from fsspec[http]<=2025.3.0,>=2023.1.0->datasets)\n",
      "  Using cached fsspec-2025.3.0-py3-none-any.whl.metadata (11 kB)\n",
      "Collecting huggingface-hub>=0.24.0 (from datasets)\n",
      "  Downloading huggingface_hub-0.34.4-py3-none-any.whl.metadata (14 kB)\n",
      "Requirement already satisfied: packaging in /Users/svl_rolla1l/Documents/pentago/SuperPentago/.venv/lib/python3.13/site-packages (from datasets) (25.0)\n",
      "Collecting pyyaml>=5.1 (from datasets)\n",
      "  Using cached PyYAML-6.0.2-cp313-cp313-macosx_11_0_arm64.whl.metadata (2.1 kB)\n",
      "Collecting aiohttp!=4.0.0a0,!=4.0.0a1 (from fsspec[http]<=2025.3.0,>=2023.1.0->datasets)\n",
      "  Downloading aiohttp-3.12.15-cp313-cp313-macosx_11_0_arm64.whl.metadata (7.7 kB)\n",
      "Collecting aiohappyeyeballs>=2.5.0 (from aiohttp!=4.0.0a0,!=4.0.0a1->fsspec[http]<=2025.3.0,>=2023.1.0->datasets)\n",
      "  Using cached aiohappyeyeballs-2.6.1-py3-none-any.whl.metadata (5.9 kB)\n",
      "Collecting aiosignal>=1.4.0 (from aiohttp!=4.0.0a0,!=4.0.0a1->fsspec[http]<=2025.3.0,>=2023.1.0->datasets)\n",
      "  Using cached aiosignal-1.4.0-py3-none-any.whl.metadata (3.7 kB)\n",
      "Collecting attrs>=17.3.0 (from aiohttp!=4.0.0a0,!=4.0.0a1->fsspec[http]<=2025.3.0,>=2023.1.0->datasets)\n",
      "  Using cached attrs-25.3.0-py3-none-any.whl.metadata (10 kB)\n",
      "Collecting frozenlist>=1.1.1 (from aiohttp!=4.0.0a0,!=4.0.0a1->fsspec[http]<=2025.3.0,>=2023.1.0->datasets)\n",
      "  Downloading frozenlist-1.7.0-cp313-cp313-macosx_11_0_arm64.whl.metadata (18 kB)\n",
      "Collecting multidict<7.0,>=4.5 (from aiohttp!=4.0.0a0,!=4.0.0a1->fsspec[http]<=2025.3.0,>=2023.1.0->datasets)\n",
      "  Downloading multidict-6.6.3-cp313-cp313-macosx_11_0_arm64.whl.metadata (5.3 kB)\n",
      "Collecting propcache>=0.2.0 (from aiohttp!=4.0.0a0,!=4.0.0a1->fsspec[http]<=2025.3.0,>=2023.1.0->datasets)\n",
      "  Downloading propcache-0.3.2-cp313-cp313-macosx_11_0_arm64.whl.metadata (12 kB)\n",
      "Collecting yarl<2.0,>=1.17.0 (from aiohttp!=4.0.0a0,!=4.0.0a1->fsspec[http]<=2025.3.0,>=2023.1.0->datasets)\n",
      "  Downloading yarl-1.20.1-cp313-cp313-macosx_11_0_arm64.whl.metadata (73 kB)\n",
      "Collecting idna>=2.0 (from yarl<2.0,>=1.17.0->aiohttp!=4.0.0a0,!=4.0.0a1->fsspec[http]<=2025.3.0,>=2023.1.0->datasets)\n",
      "  Using cached idna-3.10-py3-none-any.whl.metadata (10 kB)\n",
      "Collecting typing-extensions>=3.7.4.3 (from huggingface-hub>=0.24.0->datasets)\n",
      "  Using cached typing_extensions-4.14.1-py3-none-any.whl.metadata (3.0 kB)\n",
      "Collecting hf-xet<2.0.0,>=1.1.3 (from huggingface-hub>=0.24.0->datasets)\n",
      "  Using cached hf_xet-1.1.7-cp37-abi3-macosx_11_0_arm64.whl.metadata (703 bytes)\n",
      "Collecting charset_normalizer<4,>=2 (from requests>=2.32.2->datasets)\n",
      "  Using cached charset_normalizer-3.4.2-cp313-cp313-macosx_10_13_universal2.whl.metadata (35 kB)\n",
      "Collecting urllib3<3,>=1.21.1 (from requests>=2.32.2->datasets)\n",
      "  Using cached urllib3-2.5.0-py3-none-any.whl.metadata (6.5 kB)\n",
      "Collecting certifi>=2017.4.17 (from requests>=2.32.2->datasets)\n",
      "  Downloading certifi-2025.8.3-py3-none-any.whl.metadata (2.4 kB)\n",
      "Requirement already satisfied: python-dateutil>=2.8.2 in /Users/svl_rolla1l/Documents/pentago/SuperPentago/.venv/lib/python3.13/site-packages (from pandas->datasets) (2.9.0.post0)\n",
      "Collecting pytz>=2020.1 (from pandas->datasets)\n",
      "  Using cached pytz-2025.2-py2.py3-none-any.whl.metadata (22 kB)\n",
      "Collecting tzdata>=2022.7 (from pandas->datasets)\n",
      "  Using cached tzdata-2025.2-py2.py3-none-any.whl.metadata (1.4 kB)\n",
      "Requirement already satisfied: six>=1.5 in /Users/svl_rolla1l/Documents/pentago/SuperPentago/.venv/lib/python3.13/site-packages (from python-dateutil>=2.8.2->pandas->datasets) (1.17.0)\n",
      "Using cached datasets-4.0.0-py3-none-any.whl (494 kB)\n",
      "Using cached dill-0.3.8-py3-none-any.whl (116 kB)\n",
      "Using cached fsspec-2025.3.0-py3-none-any.whl (193 kB)\n",
      "Using cached multiprocess-0.70.16-py312-none-any.whl (146 kB)\n",
      "Downloading aiohttp-3.12.15-cp313-cp313-macosx_11_0_arm64.whl (466 kB)\n",
      "Downloading multidict-6.6.3-cp313-cp313-macosx_11_0_arm64.whl (43 kB)\n",
      "Downloading yarl-1.20.1-cp313-cp313-macosx_11_0_arm64.whl (88 kB)\n",
      "Using cached aiohappyeyeballs-2.6.1-py3-none-any.whl (15 kB)\n",
      "Using cached aiosignal-1.4.0-py3-none-any.whl (7.5 kB)\n",
      "Using cached attrs-25.3.0-py3-none-any.whl (63 kB)\n",
      "Downloading frozenlist-1.7.0-cp313-cp313-macosx_11_0_arm64.whl (45 kB)\n",
      "Downloading huggingface_hub-0.34.4-py3-none-any.whl (561 kB)\n",
      "\u001b[2K   \u001b[90m━━━━━━━━━━━━━━━━━━━━━━━━━━━━━━━━━━━━━━━━\u001b[0m \u001b[32m561.5/561.5 kB\u001b[0m \u001b[31m28.2 MB/s\u001b[0m  \u001b[33m0:00:00\u001b[0m\n",
      "\u001b[?25hUsing cached hf_xet-1.1.7-cp37-abi3-macosx_11_0_arm64.whl (2.6 MB)\n",
      "Using cached idna-3.10-py3-none-any.whl (70 kB)\n",
      "Using cached numpy-2.3.2-cp313-cp313-macosx_14_0_arm64.whl (5.1 MB)\n",
      "Downloading propcache-0.3.2-cp313-cp313-macosx_11_0_arm64.whl (41 kB)\n",
      "Downloading pyarrow-21.0.0-cp313-cp313-macosx_12_0_arm64.whl (31.2 MB)\n",
      "\u001b[2K   \u001b[90m━━━━━━━━━━━━━━━━━━━━━━━━━━━━━━━━━━━━━━━━\u001b[0m \u001b[32m31.2/31.2 MB\u001b[0m \u001b[31m59.2 MB/s\u001b[0m  \u001b[33m0:00:00\u001b[0m eta \u001b[36m0:00:01\u001b[0m\n",
      "\u001b[?25hUsing cached PyYAML-6.0.2-cp313-cp313-macosx_11_0_arm64.whl (171 kB)\n",
      "Using cached requests-2.32.4-py3-none-any.whl (64 kB)\n",
      "Using cached charset_normalizer-3.4.2-cp313-cp313-macosx_10_13_universal2.whl (199 kB)\n",
      "Using cached urllib3-2.5.0-py3-none-any.whl (129 kB)\n",
      "Downloading certifi-2025.8.3-py3-none-any.whl (161 kB)\n",
      "Using cached tqdm-4.67.1-py3-none-any.whl (78 kB)\n",
      "Using cached typing_extensions-4.14.1-py3-none-any.whl (43 kB)\n",
      "Using cached filelock-3.18.0-py3-none-any.whl (16 kB)\n",
      "Using cached pandas-2.3.1-cp313-cp313-macosx_11_0_arm64.whl (10.7 MB)\n",
      "Using cached pytz-2025.2-py2.py3-none-any.whl (509 kB)\n",
      "Using cached tzdata-2025.2-py2.py3-none-any.whl (347 kB)\n",
      "Downloading xxhash-3.5.0-cp313-cp313-macosx_11_0_arm64.whl (30 kB)\n",
      "Installing collected packages: pytz, xxhash, urllib3, tzdata, typing-extensions, tqdm, pyyaml, pyarrow, propcache, numpy, multidict, idna, hf-xet, fsspec, frozenlist, filelock, dill, charset_normalizer, certifi, attrs, aiohappyeyeballs, yarl, requests, pandas, multiprocess, aiosignal, huggingface-hub, aiohttp, datasets\n",
      "\u001b[2K   \u001b[90m━━━━━━━━━━━━━━━━━━━━━━━━━━━━━━━━━━━━━━━━\u001b[0m \u001b[32m29/29\u001b[0m [datasets]/29\u001b[0m [datasets]ce-hub]\n",
      "\u001b[1A\u001b[2KSuccessfully installed aiohappyeyeballs-2.6.1 aiohttp-3.12.15 aiosignal-1.4.0 attrs-25.3.0 certifi-2025.8.3 charset_normalizer-3.4.2 datasets-4.0.0 dill-0.3.8 filelock-3.18.0 frozenlist-1.7.0 fsspec-2025.3.0 hf-xet-1.1.7 huggingface-hub-0.34.4 idna-3.10 multidict-6.6.3 multiprocess-0.70.16 numpy-2.3.2 pandas-2.3.1 propcache-0.3.2 pyarrow-21.0.0 pytz-2025.2 pyyaml-6.0.2 requests-2.32.4 tqdm-4.67.1 typing-extensions-4.14.1 tzdata-2025.2 urllib3-2.5.0 xxhash-3.5.0 yarl-1.20.1\n"
     ]
    }
   ],
   "source": [
    "!pip install datasets"
   ]
  },
  {
   "cell_type": "code",
   "execution_count": 2,
   "metadata": {
    "colab": {
     "base_uri": "https://localhost:8080/",
     "height": 145,
     "referenced_widgets": [
      "9c2d4d6fb5454baf8edd6002c96bfde1",
      "b3787e635c9c49e28c23ac0ec7ef4cdb",
      "6a63f31a26b940899a7c57b6ec9026bc",
      "72b3cdbf4fcc44e3aeb60cf0afefb889",
      "d92994fe9db14285a966b4c8a3470f8f",
      "5fdfb27eaceb46fcb1783504a5c72f03",
      "e862855785be4d188ce2afc7a2033513",
      "1922f36f16fe4d3eac8ae81f6d7925b5",
      "fa40208bd4e44dd283fe4b780a3bdcf9",
      "beb313765abe4314bbc51a1a1de31d48",
      "c8a7f9ee3f934b3fafe93040825465a7",
      "a5ff068f1aa1462e8d9bf38641a29aea",
      "840595bb768247249610d327837df6c3",
      "c5915dcf005746d2891306fad974000e",
      "f8478af4f5a049c682029fa9b26101b5",
      "e235d3bd03c2416d947460cb14dec0ee",
      "7dd31aa94d59490caf390df437916d90",
      "2aeca17fe5644540b0f9c46e86c8675e",
      "f8f4ea7a92af443db4e987f985ef6a6a",
      "45b2013f8d2e4253ae04490a1954db0b",
      "e3d91f10e5994beb9173638053a67201",
      "5e4ab9cff9dc43c99c7d555d61af0dcf",
      "5de95af82e8a437d8966cb80a529dabe",
      "6cb1ee072cfd486b990cb652e37724d5",
      "61b2009ad7574cbfa82c6487582e2f49",
      "2d1ef7b4460347848d54b81446677b36",
      "482bdbdbdf8c4eb5ad9eb5247e34829d",
      "bbd4edc460b54957b3f39e229ae37956",
      "14c953bd81ac448bae61019179a9c080",
      "0cdc43dae606426e94955e72d4615797",
      "138e27e54f224e4e85dfbf46c1fa629f",
      "4b90028344a247a580ee97d31a05251a",
      "8177086e47474f91967083e631b8a84f",
      "4fc4717d62114d0d80c90474d7178d15",
      "bea8d449a68648a69a7d20999c1f96fc",
      "dff9f4e69f904867a83e887ebd35dcc4",
      "687fff3178e148e985505d5511a66321",
      "6111af6c879140e7b2f2c14a40016a1d",
      "d287e027395e4931b4c3abbeabba1b61",
      "1d258fa8a38145109ff0c629e277a40e",
      "4ae4c0b7b8dc4750aefc07bf830a8555",
      "e41541212c3c4344834654f25f125d84",
      "e74e6b99fff144c3a3a7ea06eb180c4d",
      "796055476d864fd3809b76d8eeada803"
     ]
    },
    "executionInfo": {
     "elapsed": 7373,
     "status": "ok",
     "timestamp": 1721036252041,
     "user": {
      "displayName": "Gustavo Medina Vazquez",
      "userId": "11607975607888255946"
     },
     "user_tz": -60
    },
    "id": "TIDL5kvREw4h",
    "outputId": "28bca7fa-da5c-4131-af0a-181cbeaf1fc0"
   },
   "outputs": [
    {
     "name": "stderr",
     "output_type": "stream",
     "text": [
      "/Users/svl_rolla1l/Documents/pentago/SuperPentago/.venv/lib/python3.13/site-packages/tqdm/auto.py:21: TqdmWarning: IProgress not found. Please update jupyter and ipywidgets. See https://ipywidgets.readthedocs.io/en/stable/user_install.html\n",
      "  from .autonotebook import tqdm as notebook_tqdm\n",
      "Generating train split: 100%|██████████| 50000/50000 [00:00<00:00, 1832774.31 examples/s]\n",
      "Generating test split: 100%|██████████| 50000/50000 [00:00<00:00, 1647823.49 examples/s]\n"
     ]
    }
   ],
   "source": [
    "import datasets\n",
    "\n",
    "dataset_train = datasets.load_dataset('mteb/toxic_conversations_50k', split='train')\n",
    "dataset_val = datasets.load_dataset('mteb/toxic_conversations_50k', split='test')"
   ]
  },
  {
   "cell_type": "markdown",
   "metadata": {
    "id": "z1KFO1FuIoXk"
   },
   "source": [
    "The dataset object contains 3 keys:\n",
    "* text: the raw text\n",
    "* label: a numeric label (1 for toxic, 0 for non-toxic)\n",
    "* label_text: the label as a string"
   ]
  },
  {
   "cell_type": "code",
   "execution_count": 3,
   "metadata": {
    "colab": {
     "base_uri": "https://localhost:8080/"
    },
    "executionInfo": {
     "elapsed": 242,
     "status": "ok",
     "timestamp": 1721036265218,
     "user": {
      "displayName": "Gustavo Medina Vazquez",
      "userId": "11607975607888255946"
     },
     "user_tz": -60
    },
    "id": "brFfsEcoFDQP",
    "outputId": "d9f5a408-ce53-4c84-e978-4673fb22826b"
   },
   "outputs": [
    {
     "name": "stdout",
     "output_type": "stream",
     "text": [
      "Dataset({\n",
      "    features: ['text', 'label', 'label_text'],\n",
      "    num_rows: 50000\n",
      "})\n"
     ]
    }
   ],
   "source": [
    "print(dataset_train)"
   ]
  },
  {
   "cell_type": "markdown",
   "metadata": {
    "id": "HXTK66d9JoWp"
   },
   "source": [
    "The dataset is indexable and you can extract the raw text into a list or write it to a temporary file if you prefer."
   ]
  },
  {
   "cell_type": "code",
   "execution_count": null,
   "metadata": {
    "id": "UuOPvuoiJDCP"
   },
   "outputs": [],
   "source": [
    "# # to extract the text into a list\n",
    "# dataset_train[:3]['text']\n",
    "\n",
    "# # to write into a file\n",
    "# with open('temp.txt', 'w') as f:\n",
    "#   for text in dataset_train['text']:\n",
    "#     f.write(text+'\\n')"
   ]
  },
  {
   "cell_type": "markdown",
   "metadata": {
    "id": "fYFANc2Lwsh1"
   },
   "source": [
    "Now that you have access to the raw data, feel free to use whatever approach and libraries you want."
   ]
  },
  {
   "cell_type": "markdown",
   "metadata": {
    "id": "5C_eIB3iRzW0"
   },
   "source": [
    "Tip: if you're using google colab, you can mount your drive to this notebook so you can save and load files on google drive:"
   ]
  },
  {
   "cell_type": "code",
   "execution_count": null,
   "metadata": {
    "colab": {
     "base_uri": "https://localhost:8080/"
    },
    "executionInfo": {
     "elapsed": 50945,
     "status": "ok",
     "timestamp": 1721037112460,
     "user": {
      "displayName": "Gustavo Medina Vazquez",
      "userId": "11607975607888255946"
     },
     "user_tz": -60
    },
    "id": "30ybk_phzVqx",
    "outputId": "c3e10dc4-7e34-4c6e-e8bd-6c1d548075a6"
   },
   "outputs": [
    {
     "name": "stdout",
     "output_type": "stream",
     "text": [
      "Mounted at /content/drive\n"
     ]
    }
   ],
   "source": [
    "# # Mount your drive to this Colab notebook\n",
    "\n",
    "# from google.colab import drive\n",
    "# drive.mount('/content/drive')"
   ]
  },
  {
   "cell_type": "markdown",
   "metadata": {
    "id": "vEkY77lnJ4-v"
   },
   "source": [
    "# Libraries"
   ]
  },
  {
   "cell_type": "markdown",
   "metadata": {
    "id": "mA7lqjqULL2T"
   },
   "source": [
    "If you need to install libraries that are not included in this environment, you can use\n",
    "`!pip install [package-name]`."
   ]
  },
  {
   "cell_type": "code",
   "execution_count": 12,
   "metadata": {
    "id": "XoXWBtisJ6Ob"
   },
   "outputs": [
    {
     "name": "stdout",
     "output_type": "stream",
     "text": [
      "Device: cpu\n"
     ]
    }
   ],
   "source": [
    "import os\n",
    "import random\n",
    "import numpy as np\n",
    "import pandas as pd\n",
    "import matplotlib.pyplot as plt\n",
    "\n",
    "import torch\n",
    "\n",
    "from datasets import load_dataset, Dataset, DatasetDict\n",
    "from sklearn.model_selection import StratifiedKFold, train_test_split\n",
    "from sklearn.feature_extraction.text import TfidfVectorizer\n",
    "from sklearn.linear_model import LogisticRegression\n",
    "from sklearn.metrics import (classification_report, confusion_matrix, roc_auc_score,\n",
    "                             average_precision_score, precision_recall_curve, roc_curve, f1_score)\n",
    "from sklearn.utils.class_weight import compute_class_weight\n",
    "\n",
    "from imblearn.pipeline import Pipeline as ImbPipeline\n",
    "from imblearn.over_sampling import RandomOverSampler\n",
    "\n",
    "import nltk\n",
    "nltk.download('punkt', quiet=True)\n",
    "\n",
    "\n",
    "DEVICE = 'cuda' if torch.cuda.is_available() else 'cpu'\n",
    "print(f\"Device: {DEVICE}\")\n"
   ]
  },
  {
   "cell_type": "markdown",
   "metadata": {
    "id": "IpRf-ltCJ_ax"
   },
   "source": [
    "# Data preprocessing"
   ]
  },
  {
   "cell_type": "code",
   "execution_count": 13,
   "metadata": {},
   "outputs": [
    {
     "data": {
      "text/plain": [
       "DatasetDict({\n",
       "    train: Dataset({\n",
       "        features: ['text', 'label', 'label_text'],\n",
       "        num_rows: 50000\n",
       "    })\n",
       "    validation: Dataset({\n",
       "        features: ['text', 'label', 'label_text'],\n",
       "        num_rows: 50000\n",
       "    })\n",
       "})"
      ]
     },
     "execution_count": 13,
     "metadata": {},
     "output_type": "execute_result"
    }
   ],
   "source": [
    "# Load the MTEB toxic conversations dataset (train/test) and wrap both splits \n",
    "# into a DatasetDict; display it for a quick sanity check.\n",
    "\n",
    "dataset_train = load_dataset('mteb/toxic_conversations_50k', split='train')\n",
    "dataset_val   = load_dataset('mteb/toxic_conversations_50k', split='test')\n",
    "\n",
    "ds = DatasetDict({\n",
    "    \"train\": dataset_train,\n",
    "    \"validation\": dataset_val\n",
    "})\n",
    "ds"
   ]
  },
  {
   "cell_type": "code",
   "execution_count": null,
   "metadata": {},
   "outputs": [
    {
     "data": {
      "text/html": [
       "<div>\n",
       "<style scoped>\n",
       "    .dataframe tbody tr th:only-of-type {\n",
       "        vertical-align: middle;\n",
       "    }\n",
       "\n",
       "    .dataframe tbody tr th {\n",
       "        vertical-align: top;\n",
       "    }\n",
       "\n",
       "    .dataframe thead th {\n",
       "        text-align: right;\n",
       "    }\n",
       "</style>\n",
       "<table border=\"1\" class=\"dataframe\">\n",
       "  <thead>\n",
       "    <tr style=\"text-align: right;\">\n",
       "      <th></th>\n",
       "      <th>text</th>\n",
       "      <th>label</th>\n",
       "      <th>label_text</th>\n",
       "    </tr>\n",
       "  </thead>\n",
       "  <tbody>\n",
       "    <tr>\n",
       "      <th>0</th>\n",
       "      <td>theres not enough going on around here for air...</td>\n",
       "      <td>0</td>\n",
       "      <td>not toxic</td>\n",
       "    </tr>\n",
       "    <tr>\n",
       "      <th>1</th>\n",
       "      <td>How about ZERO</td>\n",
       "      <td>0</td>\n",
       "      <td>not toxic</td>\n",
       "    </tr>\n",
       "    <tr>\n",
       "      <th>2</th>\n",
       "      <td>Her name is still floating?  Might I suggest f...</td>\n",
       "      <td>0</td>\n",
       "      <td>not toxic</td>\n",
       "    </tr>\n",
       "  </tbody>\n",
       "</table>\n",
       "</div>"
      ],
      "text/plain": [
       "                                                text  label label_text\n",
       "0  theres not enough going on around here for air...      0  not toxic\n",
       "1                                     How about ZERO      0  not toxic\n",
       "2  Her name is still floating?  Might I suggest f...      0  not toxic"
      ]
     },
     "execution_count": 17,
     "metadata": {},
     "output_type": "execute_result"
    }
   ],
   "source": [
    "# Compute simple length features (word counts) for train/validation and show descriptive stats \n",
    "# for the train split.\n",
    "\n",
    "df_train = ds[\"train\"].to_pandas()\n",
    "df_val   = ds[\"validation\"].to_pandas()\n",
    "df_train.head(3)\n"
   ]
  },
  {
   "cell_type": "code",
   "execution_count": 19,
   "metadata": {},
   "outputs": [
    {
     "data": {
      "text/plain": [
       "label\n",
       "not toxic    92.07\n",
       "toxic         7.93\n",
       "Name: proportion, dtype: float64"
      ]
     },
     "execution_count": 19,
     "metadata": {},
     "output_type": "execute_result"
    }
   ],
   "source": [
    "df_train['label'].map({0: 'not toxic', 1: 'toxic'}).value_counts(normalize=True).mul(100).round(2)"
   ]
  },
  {
   "cell_type": "code",
   "execution_count": 22,
   "metadata": {},
   "outputs": [
    {
     "data": {
      "text/plain": [
       "count    50000.000000\n",
       "mean        51.565620\n",
       "std         46.325654\n",
       "min          1.000000\n",
       "25%         16.000000\n",
       "50%         35.000000\n",
       "75%         72.000000\n",
       "max        210.000000\n",
       "Name: len, dtype: float64"
      ]
     },
     "execution_count": 22,
     "metadata": {},
     "output_type": "execute_result"
    }
   ],
   "source": [
    "df_train['len'] = df_train['text'].str.split().apply(len)\n",
    "df_val['len']   = df_val['text'].str.split().apply(len)\n",
    "df_train['len'].describe()"
   ]
  },
  {
   "cell_type": "code",
   "execution_count": null,
   "metadata": {},
   "outputs": [
    {
     "data": {
      "image/png": "[encoded data removed]",
      "text/plain": [
       "<Figure size 640x480 with 1 Axes>"
      ]
     },
     "metadata": {},
     "output_type": "display_data"
    }
   ],
   "source": [
    "# Plot the distribution of comment lengths (train split) to understand text size variability.\n",
    "\n",
    "plt.figure()\n",
    "df_train['len'].hist(bins=50)\n",
    "plt.xlabel(\"Comment length (words)\")\n",
    "plt.ylabel(\"Frequency\")\n",
    "plt.title(\"Length distribution (train)\")\n",
    "plt.show()"
   ]
  },
  {
   "cell_type": "markdown",
   "metadata": {
    "id": "iZQtCwpuKIbz"
   },
   "source": [
    "# Modelling"
   ]
  },
  {
   "cell_type": "code",
   "execution_count": 27,
   "metadata": {
    "id": "kXUze0MnKKZh"
   },
   "outputs": [
    {
     "name": "stdout",
     "output_type": "stream",
     "text": [
      "Eexample: theres not enough going on around here for air service none want to waste there time on this town\n"
     ]
    }
   ],
   "source": [
    "# Minimal text cleaning for the classic baseline (lowercase, remove URLs/extra spaces), \n",
    "# then build NumPy arrays for sklearn; print one cleaned example.\n",
    "\n",
    "import re\n",
    "\n",
    "def basic_clean(text: str) -> str:\n",
    "    text = text.lower()\n",
    "    text = re.sub(r\"https?://\\S+|www\\.\\S+\", \" \", text)\n",
    "    text = re.sub(r\"\\s+\", \" \", text).strip()\n",
    "    return text\n",
    "\n",
    "df_train['text_clean'] = df_train['text'].apply(basic_clean)\n",
    "df_val['text_clean']   = df_val['text'].apply(basic_clean)\n",
    "\n",
    "X_train_clf = df_train['text_clean'].values\n",
    "y_train = df_train['label'].values\n",
    "X_val_clf   = df_val['text_clean'].values\n",
    "y_val   = df_val['label'].values\n",
    "\n",
    "print(\"Eexample:\", X_train_clf[0][:300])\n"
   ]
  },
  {
   "cell_type": "markdown",
   "metadata": {},
   "source": [
    "### Model 1 — Baseline TF-IDF + Logistic Regression\n",
    "- Represent comments with **TF-IDF** over **1–2 word n-grams**, emphasizing terms frequent in a document but rare overall.\n",
    "- Train a **linear classifier** (logistic regression) to separate toxic vs. non-toxic with a single decision boundary.\n",
    "- Handle **class imbalance** via `class_weight='balanced'` and **oversampling** (RandomOverSampler).\n",
    "- **Fast**, **lightweight**, and **interpretable**: model coefficients reveal n-grams most associated with toxicity/non-toxicity.\n",
    "- Limitations: weaker at modeling **context**, sarcasm, and paraphrases; dependent on seen vocabulary.\n",
    "- Strong **baseline** to benchmark before moving to neural Transformers."
   ]
  },
  {
   "cell_type": "code",
   "execution_count": 28,
   "metadata": {
    "id": "6cDdres0KLvw"
   },
   "outputs": [
    {
     "name": "stdout",
     "output_type": "stream",
     "text": [
      "Class weights: {np.int64(0): np.float64(0.5430650591940914), np.int64(1): np.float64(6.305170239596469)}\n",
      "              precision    recall  f1-score   support\n",
      "\n",
      "           0      0.985     0.720     0.832     46046\n",
      "           1      0.211     0.874     0.340      3954\n",
      "\n",
      "    accuracy                          0.732     50000\n",
      "   macro avg      0.598     0.797     0.586     50000\n",
      "weighted avg      0.924     0.732     0.793     50000\n",
      "\n",
      "ROC‑AUC : 0.8914900663102815\n",
      "PR‑AUC  : 0.5567955418763993\n",
      "\n",
      "Matrice de confusion (seuil 0.5):\n",
      " [[33131 12915]\n",
      " [  497  3457]]\n"
     ]
    }
   ],
   "source": [
    "# Train a classic baseline: TF-IDF (1–2 grams) + class-balanced Logistic Regression with oversampling;\n",
    "# then evaluate on the validation set (classification report, ROC-AUC, PR-AUC, confusion matrix).\n",
    "\n",
    "vectorizer = TfidfVectorizer(\n",
    "    ngram_range=(1,2),\n",
    "    min_df=2,\n",
    "    max_df=0.99,\n",
    "    strip_accents='unicode',\n",
    "    sublinear_tf=True\n",
    ")\n",
    "\n",
    "classes = np.array([0,1])\n",
    "class_weights = compute_class_weight(\n",
    "    class_weight='balanced', classes=classes, y=y_train\n",
    ")\n",
    "cw = {cls: w for cls, w in zip(classes, class_weights)}\n",
    "print(\"Class weights:\", cw)\n",
    "\n",
    "logreg = LogisticRegression(\n",
    "    max_iter=200,\n",
    "    class_weight=cw,\n",
    "    solver='liblinear',\n",
    "    C=1.0\n",
    ")\n",
    "\n",
    "pipeline = ImbPipeline(steps=[\n",
    "    ('vectorizer', vectorizer),\n",
    "    ('ros', RandomOverSampler()),\n",
    "    ('clf', logreg),\n",
    "])\n",
    "\n",
    "pipeline.fit(X_train_clf, y_train)\n",
    "proba_val = pipeline.predict_proba(X_val_clf)[:,1]\n",
    "pred_val_05 = (proba_val >= 0.5).astype(int)\n",
    "\n",
    "print(classification_report(y_val, pred_val_05, digits=3))\n",
    "print(\"ROC‑AUC :\", roc_auc_score(y_val, proba_val))\n",
    "print(\"PR‑AUC  :\", average_precision_score(y_val, proba_val))\n",
    "\n",
    "cm = confusion_matrix(y_val, pred_val_05)\n",
    "print(\"\\nconfusion matrice:\\n\", cm)\n"
   ]
  },
  {
   "cell_type": "code",
   "execution_count": 29,
   "metadata": {},
   "outputs": [
    {
     "name": "stdout",
     "output_type": "stream",
     "text": [
      "\n",
      "Top 20 n‑grams associés à la classe TOXIQUE:\n",
      "stupid \t 29.506\n",
      "idiot \t 15.928\n",
      "ignorant \t 15.587\n",
      "pathetic \t 15.084\n",
      "idiots \t 15.061\n",
      "stupidity \t 14.939\n",
      "ridiculous \t 14.029\n",
      "dumb \t 13.851\n",
      "crap \t 13.566\n",
      "damn \t 11.907\n",
      "fool \t 11.500\n",
      "fools \t 11.228\n",
      "ass \t 11.079\n",
      "silly \t 10.857\n",
      "garbage \t 10.236\n",
      "black \t 10.004\n",
      "white \t 9.776\n",
      "loser \t 9.521\n",
      "idiotic \t 9.350\n",
      "clown \t 9.348\n",
      "\n",
      "Top 20 n‑grams associés à la classe NON‑TOXIQUE:\n",
      "different \t -3.768\n",
      "in \t -3.253\n",
      "great \t -3.236\n",
      "interesting \t -3.235\n",
      "doesn \t -3.032\n",
      "second \t -2.996\n",
      "may \t -2.982\n",
      "it is \t -2.941\n",
      "much \t -2.829\n",
      "many \t -2.796\n",
      "amazing \t -2.791\n",
      "in our \t -2.769\n",
      "point \t -2.733\n",
      "thank you \t -2.727\n",
      "are not \t -2.674\n",
      "business \t -2.628\n",
      "system \t -2.540\n",
      "tax \t -2.515\n",
      "information \t -2.482\n",
      "living \t -2.460\n"
     ]
    }
   ],
   "source": [
    "# Interpretability of the baseline: list the top n-grams most associated with TOXIC vs NON-TOXIC\n",
    "# using the logistic regression coefficients on the TF-IDF features.\n",
    "\n",
    "clf = pipeline.named_steps['clf']\n",
    "tfidf = pipeline.named_steps['vectorizer']\n",
    "\n",
    "feature_names = np.array(tfidf.get_feature_names_out())\n",
    "coefs = clf.coef_[0]\n",
    "\n",
    "top_pos_idx = np.argsort(coefs)[-20:][::-1]\n",
    "top_neg_idx = np.argsort(coefs)[:20]\n",
    "\n",
    "print(\"\\nTop 20 n-grams associated with the TOXIC class:\")\n",
    "for i in top_pos_idx:\n",
    "    print(f\"{feature_names[i]}\\t{coefs[i]:.3f}\")\n",
    "\n",
    "print(\"\\nTop 20 n-grams associated with the NON-TOXIC class:\")\n",
    "for i in top_neg_idx:\n",
    "    print(f\"{feature_names[i]}\\t{coefs[i]:.3f}\")"
   ]
  },
  {
   "cell_type": "markdown",
   "metadata": {},
   "source": [
    "### Model 2 — DistilBERT (Transformer) Fine-tuned\n",
    "- Start from **DistilBERT**, a compact, pre-trained Transformer; add a **classification head** and **fine-tune** on toxicity labels.\n",
    "- **Tokenization** yields `input_ids` and `attention_mask`; **self-attention** captures long-range context and nuanced meaning.\n",
    "- Train with Hugging Face **Trainer**/**TrainingArguments**; evaluate using **ROC-AUC**, **PR-AUC**, and **F1** with an optimized threshold.\n",
    "- Typically achieves **higher quality**, especially **PR-AUC** on rare positives, and is more robust to rephrasing.\n",
    "- Trade-offs: **heavier** compute (GPU recommended) and **less interpretable** than linear baselines.\n",
    "- Preferred when you need **best performance** and can afford the extra training/inference cost."
   ]
  },
  {
   "cell_type": "code",
   "execution_count": 46,
   "metadata": {},
   "outputs": [
    {
     "name": "stderr",
     "output_type": "stream",
     "text": [
      "Map: 100%|██████████| 50000/50000 [00:06<00:00, 7544.31 examples/s]\n",
      "Map: 100%|██████████| 50000/50000 [00:06<00:00, 7538.69 examples/s]\n",
      "Some weights of DistilBertForSequenceClassification were not initialized from the model checkpoint at distilbert-base-uncased and are newly initialized: ['classifier.bias', 'classifier.weight', 'pre_classifier.bias', 'pre_classifier.weight']\n",
      "You should probably TRAIN this model on a down-stream task to be able to use it for predictions and inference.\n",
      "/var/folders/h5/01chx0t50qzc510cx0_sb39m0000gn/T/ipykernel_25401/3005768012.py:108: FutureWarning: `tokenizer` is deprecated and will be removed in version 5.0.0 for `Trainer.__init__`. Use `processing_class` instead.\n",
      "  trainer = Trainer(\n",
      "/Users/svl_rolla1l/Documents/pentago/SuperPentago/.venv/lib/python3.13/site-packages/torch/utils/data/dataloader.py:684: UserWarning: 'pin_memory' argument is set as true but not supported on MPS now, then device pinned memory won't be used.\n",
      "  warnings.warn(warn_msg)\n"
     ]
    },
    {
     "data": {
      "text/html": [
       "\n",
       "    <div>\n",
       "      \n",
       "      <progress value='6250' max='6250' style='width:300px; height:20px; vertical-align: middle;'></progress>\n",
       "      [6250/6250 53:45, Epoch 2/2]\n",
       "    </div>\n",
       "    <table border=\"1\" class=\"dataframe\">\n",
       "  <thead>\n",
       " <tr style=\"text-align: left;\">\n",
       "      <th>Epoch</th>\n",
       "      <th>Training Loss</th>\n",
       "      <th>Validation Loss</th>\n",
       "      <th>Roc Auc</th>\n",
       "      <th>Pr Auc</th>\n",
       "      <th>F1</th>\n",
       "    </tr>\n",
       "  </thead>\n",
       "  <tbody>\n",
       "    <tr>\n",
       "      <td>1</td>\n",
       "      <td>0.154600</td>\n",
       "      <td>0.161990</td>\n",
       "      <td>0.945433</td>\n",
       "      <td>0.707815</td>\n",
       "      <td>0.610492</td>\n",
       "    </tr>\n",
       "    <tr>\n",
       "      <td>2</td>\n",
       "      <td>0.047500</td>\n",
       "      <td>0.169249</td>\n",
       "      <td>0.947924</td>\n",
       "      <td>0.716273</td>\n",
       "      <td>0.641754</td>\n",
       "    </tr>\n",
       "  </tbody>\n",
       "</table><p>"
      ],
      "text/plain": [
       "<IPython.core.display.HTML object>"
      ]
     },
     "metadata": {},
     "output_type": "display_data"
    },
    {
     "name": "stderr",
     "output_type": "stream",
     "text": [
      "/Users/svl_rolla1l/Documents/pentago/SuperPentago/.venv/lib/python3.13/site-packages/torch/utils/data/dataloader.py:684: UserWarning: 'pin_memory' argument is set as true but not supported on MPS now, then device pinned memory won't be used.\n",
      "  warnings.warn(warn_msg)\n",
      "/Users/svl_rolla1l/Documents/pentago/SuperPentago/.venv/lib/python3.13/site-packages/torch/utils/data/dataloader.py:684: UserWarning: 'pin_memory' argument is set as true but not supported on MPS now, then device pinned memory won't be used.\n",
      "  warnings.warn(warn_msg)\n"
     ]
    },
    {
     "data": {
      "text/html": [],
      "text/plain": [
       "<IPython.core.display.HTML object>"
      ]
     },
     "metadata": {},
     "output_type": "display_data"
    },
    {
     "data": {
      "text/plain": [
       "{'eval_loss': 0.16924934089183807,\n",
       " 'eval_roc_auc': 0.947924494190246,\n",
       " 'eval_pr_auc': 0.7162733201674013,\n",
       " 'eval_f1': 0.641753998896856,\n",
       " 'eval_runtime': 320.3749,\n",
       " 'eval_samples_per_second': 156.067,\n",
       " 'eval_steps_per_second': 4.879,\n",
       " 'epoch': 2.0}"
      ]
     },
     "execution_count": 46,
     "metadata": {},
     "output_type": "execute_result"
    }
   ],
   "source": [
    "# Fine-tune DistilBERT end-to-end: Pandas -> HF Datasets,\n",
    "# build TrainingArguments, train and evaluate.\n",
    "\n",
    "import os, random, numpy as np, torch, inspect\n",
    "from datasets import Dataset, DatasetDict, load_dataset\n",
    "from transformers import (\n",
    "    AutoTokenizer,\n",
    "    AutoModelForSequenceClassification,\n",
    "    TrainingArguments,\n",
    "    Trainer,\n",
    "    DataCollatorWithPadding,\n",
    ")\n",
    "from sklearn.metrics import roc_auc_score, average_precision_score, f1_score\n",
    "\n",
    "os.environ[\"TOKENIZERS_PARALLELISM\"] = \"false\"\n",
    "\n",
    "MODEL_NAME = \"distilbert-base-uncased\"\n",
    "MAX_LEN = 256\n",
    "DEVICE = \"cuda\" if torch.cuda.is_available() else \"cpu\"\n",
    "\n",
    "try:\n",
    "    df_train, df_val \n",
    "except NameError:\n",
    "    ds_train = load_dataset('mteb/toxic_conversations_50k', split='train')\n",
    "    ds_val   = load_dataset('mteb/toxic_conversations_50k', split='test')\n",
    "    df_train = ds_train.to_pandas()\n",
    "    df_val   = ds_val.to_pandas()\n",
    "\n",
    "df_train2 = (df_train[['text','label']].dropna().reset_index(drop=True).rename(columns={'label':'labels'}))\n",
    "df_val2   = (df_val[['text','label']].dropna().reset_index(drop=True).rename(columns={'label':'labels'}))\n",
    "df_train2['labels'] = df_train2['labels'].astype('int64')\n",
    "df_val2['labels']   = df_val2['labels'].astype('int64')\n",
    "\n",
    "raw_ds = DatasetDict({\n",
    "    \"train\": Dataset.from_pandas(df_train2),\n",
    "    \"validation\": Dataset.from_pandas(df_val2),\n",
    "})\n",
    "\n",
    "tokenizer = AutoTokenizer.from_pretrained(MODEL_NAME)\n",
    "\n",
    "def tok(batch):\n",
    "    enc = tokenizer(batch[\"text\"], truncation=True, padding=\"max_length\", max_length=MAX_LEN)\n",
    "    enc[\"labels\"] = batch[\"labels\"]\n",
    "    return enc\n",
    "\n",
    "tokenized_ds = raw_ds.map(tok, batched=True, remove_columns=raw_ds[\"train\"].column_names)\n",
    "\n",
    "model = AutoModelForSequenceClassification.from_pretrained(MODEL_NAME, num_labels=2).to(DEVICE)\n",
    "\n",
    "def compute_metrics(eval_pred):\n",
    "    logits, labels = eval_pred\n",
    "    probs = torch.softmax(torch.tensor(logits), dim=1)[:, 1].numpy()\n",
    "    preds = (probs >= 0.5).astype(int)\n",
    "    return {\n",
    "        \"roc_auc\": float(roc_auc_score(labels, probs)),\n",
    "        \"pr_auc\": float(average_precision_score(labels, probs)),\n",
    "        \"f1\": float(f1_score(labels, preds)),\n",
    "    }\n",
    "\n",
    "data_collator = DataCollatorWithPadding(tokenizer=tokenizer)\n",
    "\n",
    "def build_training_args() -> TrainingArguments:\n",
    "    STRAT = \"epoch\"\n",
    "    sig = inspect.signature(TrainingArguments.__init__)\n",
    "    ta = dict(\n",
    "        output_dir=\"./outputs\",\n",
    "        learning_rate=5e-5,\n",
    "        per_device_train_batch_size=16,\n",
    "        per_device_eval_batch_size=32,\n",
    "        num_train_epochs=2,\n",
    "        weight_decay=0.01,\n",
    "        logging_steps=50,\n",
    "    )\n",
    "    if \"evaluation_strategy\" in sig.parameters:\n",
    "        ta[\"evaluation_strategy\"] = STRAT\n",
    "    if \"eval_strategy\" in sig.parameters:\n",
    "        ta[\"eval_strategy\"] = STRAT\n",
    "    if \"save_strategy\" in sig.parameters:\n",
    "        ta[\"save_strategy\"] = STRAT\n",
    "    if \"do_eval\" in sig.parameters:\n",
    "        ta[\"do_eval\"] = True\n",
    "    if \"report_to\" in sig.parameters:\n",
    "        ta[\"report_to\"] = \"none\"\n",
    "    if \"load_best_model_at_end\" in sig.parameters:\n",
    "        ta[\"load_best_model_at_end\"] = True\n",
    "    if \"metric_for_best_model\" in sig.parameters:\n",
    "        ta[\"metric_for_best_model\"] = \"pr_auc\"\n",
    "    if \"greater_is_better\" in sig.parameters:\n",
    "        ta[\"greater_is_better\"] = True\n",
    "    return TrainingArguments(**ta)\n",
    "\n",
    "training_args = build_training_args()\n",
    "\n",
    "trainer = Trainer(\n",
    "    model=model,\n",
    "    args=training_args,\n",
    "    train_dataset=tokenized_ds[\"train\"],\n",
    "    eval_dataset=tokenized_ds[\"validation\"],\n",
    "    tokenizer=tokenizer,\n",
    "    data_collator=data_collator,\n",
    "    compute_metrics=compute_metrics,\n",
    ")\n",
    "trainer.train()\n",
    "trainer.evaluate()"
   ]
  },
  {
   "cell_type": "code",
   "execution_count": null,
   "metadata": {},
   "outputs": [
    {
     "name": "stderr",
     "output_type": "stream",
     "text": [
      "/Users/svl_rolla1l/Documents/pentago/SuperPentago/.venv/lib/python3.13/site-packages/torch/utils/data/dataloader.py:684: UserWarning: 'pin_memory' argument is set as true but not supported on MPS now, then device pinned memory won't be used.\n",
      "  warnings.warn(warn_msg)\n"
     ]
    },
    {
     "name": "stdout",
     "output_type": "stream",
     "text": [
      "Optimal threshold (Transformer, max F1): 0.272 — F1=0.652\n",
      "ROC-AUC: 0.947924494190246\n",
      "PR-AUC: 0.7162733201674013\n"
     ]
    },
    {
     "data": {
      "image/png": "[encoded data removed]",
      "text/plain": [
       "<Figure size 640x480 with 1 Axes>"
      ]
     },
     "metadata": {},
     "output_type": "display_data"
    },
    {
     "data": {
      "image/png": "[encoded data removed]",
      "text/plain": [
       "<Figure size 640x480 with 1 Axes>"
      ]
     },
     "metadata": {},
     "output_type": "display_data"
    },
    {
     "name": "stdout",
     "output_type": "stream",
     "text": [
      "\n",
      "== Report (Transformer, optimal threshold) ==\n",
      "              precision    recall  f1-score   support\n",
      "\n",
      "           0      0.969     0.972     0.971     46046\n",
      "           1      0.661     0.642     0.652      3954\n",
      "\n",
      "    accuracy                          0.946     50000\n",
      "   macro avg      0.815     0.807     0.811     50000\n",
      "weighted avg      0.945     0.946     0.945     50000\n",
      "\n",
      "Confusion matrix:\n",
      " [[44746  1300]\n",
      " [ 1415  2539]]\n"
     ]
    }
   ],
   "source": [
    "# Inference via Trainer (no manual tensors/MPS quirks)\n",
    "pred = trainer.predict(tokenized_ds[\"validation\"])\n",
    "\n",
    "import torch\n",
    "logits = torch.tensor(pred.predictions)              \n",
    "probs  = torch.softmax(logits, dim=1)[:, 1].numpy()\n",
    "y_true = pred.label_ids\n",
    "\n",
    "from sklearn.metrics import precision_recall_curve, roc_auc_score, average_precision_score, classification_report, confusion_matrix, roc_curve\n",
    "\n",
    "precision, recall, thr = precision_recall_curve(y_true, probs)\n",
    "f1s = 2 * precision[:-1] * recall[:-1] / (precision[:-1] + recall[:-1] + 1e-9)\n",
    "best_idx = f1s.argmax()\n",
    "best_thr = thr[best_idx]\n",
    "\n",
    "print(f\"Optimal threshold (Transformer, max F1): {best_thr:.3f} — F1={f1s[best_idx]:.3f}\")\n",
    "print(\"ROC-AUC:\", roc_auc_score(y_true, probs))\n",
    "print(\"PR-AUC:\", average_precision_score(y_true, probs))\n",
    "\n",
    "plt.figure(); plt.plot(recall, precision); plt.xlabel(\"Recall\"); plt.ylabel(\"Precision\"); plt.title(\"Precision-Recall curve (Transformer)\"); plt.show()\n",
    "\n",
    "fpr, tpr, _ = roc_curve(y_true, probs)\n",
    "plt.figure(); plt.plot(fpr, tpr); plt.xlabel(\"FPR\"); plt.ylabel(\"TPR\"); plt.title(\"ROC curve (Transformer)\"); plt.show()\n",
    "\n",
    "preds = (probs >= best_thr).astype(int)\n",
    "print(\"\\n== Report (Transformer, optimal threshold) ==\")\n",
    "print(classification_report(y_true, preds, digits=3))\n",
    "print(\"Confusion matrix:\\n\", confusion_matrix(y_true, preds))"
   ]
  },
  {
   "cell_type": "markdown",
   "metadata": {
    "id": "Ug-afdTBKOBt"
   },
   "source": [
    "# Conclusions"
   ]
  },
  {
   "cell_type": "markdown",
   "metadata": {
    "id": "N7brdfTqKRtv"
   },
   "source": [
    "Feel free to use this space to provide any additional explanations or thoughts about the test. This can include comments, critical reflections about the challenge or data, how the solution could be improved, and any other ideas for further work or relevant topics that were not included here."
   ]
  },
  {
   "cell_type": "code",
   "execution_count": 53,
   "metadata": {
    "id": "4tarG725KO25"
   },
   "outputs": [
    {
     "name": "stdout",
     "output_type": "stream",
     "text": [
      "\n",
      "--- False positives (predicted toxic, actually non-toxic) ---\n",
      "[p=0.995] how do you know\n",
      "I lived under marxist governments you moron\n",
      "[p=0.995] ... what a spoiled BRAT MORON we have as a President!!\n",
      "[p=0.995] \"How about you and the govt. stay out of my healthcare choices (and wallet)?\"\n",
      "\n",
      "Are you on Medicare?\n",
      "\n",
      "If not, will you accept Medicare when you turn 65?\n",
      "\n",
      "If the answer to either in \"Yes\", you are the rankest of hypocrites.\n",
      "[p=0.994] Dumb is a good posting name for you IMO\n",
      "[p=0.994] and as usual a bs lib troll spewing the usual crap, no lib loser, a peice of toast would be better for ontario over liberals, hence brown is a great alternative\n",
      "[p=0.994] Maybe Trump doesn't know about the time Jesus flipped out at the money changers at the Temple.  \n",
      "\n",
      "\"This Jesus.  Some kind of socialist?  Christianity -- a hoax by the Chinese to kill out economy.  Pathetic.\"\n",
      "[p=0.994] Putin played Trump, his chief suckee, like a balalaika and the mentally impoverished sociopath fell for the Russian lullaby.\n",
      "[p=0.994] Moron extrodinare\n",
      "[p=0.994] Victims should start by suing their rapist civily, forget the traditional route which is useless & biased .\n",
      "[p=0.994] Don't be a sore loser, Billy...\n",
      "\n",
      "--- False negatives (predicted non-toxic, actually toxic) ---\n",
      "[p=0.000] The only \"insufficient tool\" was the candidate.\n",
      "[p=0.000] I agree killing 6 of your own teams from State tourney participation just to keep out the second ILH team in the open does not make sense.  Like you mentioned, too bad for all those players and fans.\n",
      "Wow Dave, you learned a lot from Miss Tsugawa's class at PC, I must have been sleeping during that s\n",
      "[p=0.000] Uh, with respect I'm not a Democrat.  Sorry I triggered you.\n",
      "[p=0.000] Promotion?? What about an outright firing!\n",
      "[p=0.000] You think that everyone is equal in North Korea?  You must have failed History and Geography in school.\n",
      "[p=0.000] This guy's going to get hammered for telling the truth.\n",
      "[p=0.000] The comment section has devolved into character assassination. Good job, ADN.\n",
      "[p=0.000] Q. Where would you be without teachers? A. Right where you are. Why is it that in Canada, teachers are denigrated? Whereas in Asian countries, teachers are highly respected.  As Prime Minister Justin Trudeau's former students all attest: he is an excellent teacher. Excellent, do you here, dunce?\n",
      "[p=0.000] It's kind of disturbing how little thought some people put into their comments.  You really think it's \"simple\" if you have HPD responsible for airport security? You do realize HPD has limited manpower don't you? The only thing \"simple\" is your mind.\n",
      "[p=0.000] Get your own account, quit trolling someone else's account.\n"
     ]
    }
   ],
   "source": [
    "# Error analysis: list the top-k false positives/negatives (by model confidence) \n",
    "# to inspect typical mistakes.\n",
    "import numpy as np\n",
    "def top_errors(y_true, y_prob, k=10):\n",
    "    preds = (y_prob >= 0.5).astype(int)\n",
    "    fp_idx = np.where((preds==1) & (y_true==0))[0]\n",
    "    fn_idx = np.where((preds==0) & (y_true==1))[0]\n",
    "    fp_sorted = fp_idx[np.argsort(-y_prob[fp_idx])][:k]\n",
    "    fn_sorted = fn_idx[np.argsort(y_prob[fn_idx])][:k]\n",
    "    return fp_sorted, fn_sorted\n",
    "\n",
    "fp_ids, fn_ids = top_errors(y_true, probs, k=10)\n",
    "\n",
    "print(\"\\n--- False positives (predicted toxic, actually non-toxic) ---\")\n",
    "for i in fp_ids:\n",
    "    print(f\"[p={probs[i]:.3f}] {df_val['text'].iloc[i][:300]}\")\n",
    "\n",
    "print(\"\\n--- False negatives (predicted non-toxic, actually toxic) ---\")\n",
    "for i in fn_ids:\n",
    "    print(f\"[p={probs[i]:.3f}] {df_val['text'].iloc[i][:300]}\")"
   ]
  },
  {
   "cell_type": "markdown",
   "metadata": {},
   "source": [
    "### Conclusion\n",
    "\n",
    "After having considered the gap between the predictions of my model and the true results, I think that my model is better than those who made the dataset in considering what is toxic or not. I could therefore propose to them to use my model for the next evaluation."
   ]
  }
 ],
 "metadata": {
  "colab": {
   "authorship_tag": "ABX9TyM8eAnoURLq6kiVxRCpv5Og",
   "provenance": []
  },
  "kernelspec": {
   "display_name": "Python 3",
   "name": "python3"
  },
  "language_info": {
   "codemirror_mode": {
    "name": "ipython",
    "version": 3
   },
   "file_extension": ".py",
   "mimetype": "text/x-python",
   "name": "python",
   "nbconvert_exporter": "python",
   "pygments_lexer": "ipython3",
   "version": "3.13.5"
  },
  "widgets": {
   "application/vnd.jupyter.widget-state+json": {
    "0cdc43dae606426e94955e72d4615797": {
     "model_module": "@jupyter-widgets/base",
     "model_module_version": "1.2.0",
     "model_name": "LayoutModel",
     "state": {
      "_model_module": "@jupyter-widgets/base",
      "_model_module_version": "1.2.0",
      "_model_name": "LayoutModel",
      "_view_count": null,
      "_view_module": "@jupyter-widgets/base",
      "_view_module_version": "1.2.0",
      "_view_name": "LayoutView",
      "align_content": null,
      "align_items": null,
      "align_self": null,
      "border": null,
      "bottom": null,
      "display": null,
      "flex": null,
      "flex_flow": null,
      "grid_area": null,
      "grid_auto_columns": null,
      "grid_auto_flow": null,
      "grid_auto_rows": null,
      "grid_column": null,
      "grid_gap": null,
      "grid_row": null,
      "grid_template_areas": null,
      "grid_template_columns": null,
      "grid_template_rows": null,
      "height": null,
      "justify_content": null,
      "justify_items": null,
      "left": null,
      "margin": null,
      "max_height": null,
      "max_width": null,
      "min_height": null,
      "min_width": null,
      "object_fit": null,
      "object_position": null,
      "order": null,
      "overflow": null,
      "overflow_x": null,
      "overflow_y": null,
      "padding": null,
      "right": null,
      "top": null,
      "visibility": null,
      "width": null
     }
    },
    "138e27e54f224e4e85dfbf46c1fa629f": {
     "model_module": "@jupyter-widgets/controls",
     "model_module_version": "1.5.0",
     "model_name": "ProgressStyleModel",
     "state": {
      "_model_module": "@jupyter-widgets/controls",
      "_model_module_version": "1.5.0",
      "_model_name": "ProgressStyleModel",
      "_view_count": null,
      "_view_module": "@jupyter-widgets/base",
      "_view_module_version": "1.2.0",
      "_view_name": "StyleView",
      "bar_color": null,
      "description_width": ""
     }
    },
    "14c953bd81ac448bae61019179a9c080": {
     "model_module": "@jupyter-widgets/controls",
     "model_module_version": "1.5.0",
     "model_name": "DescriptionStyleModel",
     "state": {
      "_model_module": "@jupyter-widgets/controls",
      "_model_module_version": "1.5.0",
      "_model_name": "DescriptionStyleModel",
      "_view_count": null,
      "_view_module": "@jupyter-widgets/base",
      "_view_module_version": "1.2.0",
      "_view_name": "StyleView",
      "description_width": ""
     }
    },
    "1922f36f16fe4d3eac8ae81f6d7925b5": {
     "model_module": "@jupyter-widgets/base",
     "model_module_version": "1.2.0",
     "model_name": "LayoutModel",
     "state": {
      "_model_module": "@jupyter-widgets/base",
      "_model_module_version": "1.2.0",
      "_model_name": "LayoutModel",
      "_view_count": null,
      "_view_module": "@jupyter-widgets/base",
      "_view_module_version": "1.2.0",
      "_view_name": "LayoutView",
      "align_content": null,
      "align_items": null,
      "align_self": null,
      "border": null,
      "bottom": null,
      "display": null,
      "flex": null,
      "flex_flow": null,
      "grid_area": null,
      "grid_auto_columns": null,
      "grid_auto_flow": null,
      "grid_auto_rows": null,
      "grid_column": null,
      "grid_gap": null,
      "grid_row": null,
      "grid_template_areas": null,
      "grid_template_columns": null,
      "grid_template_rows": null,
      "height": null,
      "justify_content": null,
      "justify_items": null,
      "left": null,
      "margin": null,
      "max_height": null,
      "max_width": null,
      "min_height": null,
      "min_width": null,
      "object_fit": null,
      "object_position": null,
      "order": null,
      "overflow": null,
      "overflow_x": null,
      "overflow_y": null,
      "padding": null,
      "right": null,
      "top": null,
      "visibility": null,
      "width": null
     }
    },
    "1d258fa8a38145109ff0c629e277a40e": {
     "model_module": "@jupyter-widgets/controls",
     "model_module_version": "1.5.0",
     "model_name": "DescriptionStyleModel",
     "state": {
      "_model_module": "@jupyter-widgets/controls",
      "_model_module_version": "1.5.0",
      "_model_name": "DescriptionStyleModel",
      "_view_count": null,
      "_view_module": "@jupyter-widgets/base",
      "_view_module_version": "1.2.0",
      "_view_name": "StyleView",
      "description_width": ""
     }
    },
    "2aeca17fe5644540b0f9c46e86c8675e": {
     "model_module": "@jupyter-widgets/controls",
     "model_module_version": "1.5.0",
     "model_name": "DescriptionStyleModel",
     "state": {
      "_model_module": "@jupyter-widgets/controls",
      "_model_module_version": "1.5.0",
      "_model_name": "DescriptionStyleModel",
      "_view_count": null,
      "_view_module": "@jupyter-widgets/base",
      "_view_module_version": "1.2.0",
      "_view_name": "StyleView",
      "description_width": ""
     }
    },
    "2d1ef7b4460347848d54b81446677b36": {
     "model_module": "@jupyter-widgets/controls",
     "model_module_version": "1.5.0",
     "model_name": "HTMLModel",
     "state": {
      "_dom_classes": [],
      "_model_module": "@jupyter-widgets/controls",
      "_model_module_version": "1.5.0",
      "_model_name": "HTMLModel",
      "_view_count": null,
      "_view_module": "@jupyter-widgets/controls",
      "_view_module_version": "1.5.0",
      "_view_name": "HTMLView",
      "description": "",
      "description_tooltip": null,
      "layout": "IPY_MODEL_4b90028344a247a580ee97d31a05251a",
      "placeholder": "​",
      "style": "IPY_MODEL_8177086e47474f91967083e631b8a84f",
      "value": " 50000/50000 [00:00&lt;00:00, 197149.13 examples/s]"
     }
    },
    "45b2013f8d2e4253ae04490a1954db0b": {
     "model_module": "@jupyter-widgets/controls",
     "model_module_version": "1.5.0",
     "model_name": "ProgressStyleModel",
     "state": {
      "_model_module": "@jupyter-widgets/controls",
      "_model_module_version": "1.5.0",
      "_model_name": "ProgressStyleModel",
      "_view_count": null,
      "_view_module": "@jupyter-widgets/base",
      "_view_module_version": "1.2.0",
      "_view_name": "StyleView",
      "bar_color": null,
      "description_width": ""
     }
    },
    "482bdbdbdf8c4eb5ad9eb5247e34829d": {
     "model_module": "@jupyter-widgets/base",
     "model_module_version": "1.2.0",
     "model_name": "LayoutModel",
     "state": {
      "_model_module": "@jupyter-widgets/base",
      "_model_module_version": "1.2.0",
      "_model_name": "LayoutModel",
      "_view_count": null,
      "_view_module": "@jupyter-widgets/base",
      "_view_module_version": "1.2.0",
      "_view_name": "LayoutView",
      "align_content": null,
      "align_items": null,
      "align_self": null,
      "border": null,
      "bottom": null,
      "display": null,
      "flex": null,
      "flex_flow": null,
      "grid_area": null,
      "grid_auto_columns": null,
      "grid_auto_flow": null,
      "grid_auto_rows": null,
      "grid_column": null,
      "grid_gap": null,
      "grid_row": null,
      "grid_template_areas": null,
      "grid_template_columns": null,
      "grid_template_rows": null,
      "height": null,
      "justify_content": null,
      "justify_items": null,
      "left": null,
      "margin": null,
      "max_height": null,
      "max_width": null,
      "min_height": null,
      "min_width": null,
      "object_fit": null,
      "object_position": null,
      "order": null,
      "overflow": null,
      "overflow_x": null,
      "overflow_y": null,
      "padding": null,
      "right": null,
      "top": null,
      "visibility": null,
      "width": null
     }
    },
    "4ae4c0b7b8dc4750aefc07bf830a8555": {
     "model_module": "@jupyter-widgets/base",
     "model_module_version": "1.2.0",
     "model_name": "LayoutModel",
     "state": {
      "_model_module": "@jupyter-widgets/base",
      "_model_module_version": "1.2.0",
      "_model_name": "LayoutModel",
      "_view_count": null,
      "_view_module": "@jupyter-widgets/base",
      "_view_module_version": "1.2.0",
      "_view_name": "LayoutView",
      "align_content": null,
      "align_items": null,
      "align_self": null,
      "border": null,
      "bottom": null,
      "display": null,
      "flex": null,
      "flex_flow": null,
      "grid_area": null,
      "grid_auto_columns": null,
      "grid_auto_flow": null,
      "grid_auto_rows": null,
      "grid_column": null,
      "grid_gap": null,
      "grid_row": null,
      "grid_template_areas": null,
      "grid_template_columns": null,
      "grid_template_rows": null,
      "height": null,
      "justify_content": null,
      "justify_items": null,
      "left": null,
      "margin": null,
      "max_height": null,
      "max_width": null,
      "min_height": null,
      "min_width": null,
      "object_fit": null,
      "object_position": null,
      "order": null,
      "overflow": null,
      "overflow_x": null,
      "overflow_y": null,
      "padding": null,
      "right": null,
      "top": null,
      "visibility": null,
      "width": null
     }
    },
    "4b90028344a247a580ee97d31a05251a": {
     "model_module": "@jupyter-widgets/base",
     "model_module_version": "1.2.0",
     "model_name": "LayoutModel",
     "state": {
      "_model_module": "@jupyter-widgets/base",
      "_model_module_version": "1.2.0",
      "_model_name": "LayoutModel",
      "_view_count": null,
      "_view_module": "@jupyter-widgets/base",
      "_view_module_version": "1.2.0",
      "_view_name": "LayoutView",
      "align_content": null,
      "align_items": null,
      "align_self": null,
      "border": null,
      "bottom": null,
      "display": null,
      "flex": null,
      "flex_flow": null,
      "grid_area": null,
      "grid_auto_columns": null,
      "grid_auto_flow": null,
      "grid_auto_rows": null,
      "grid_column": null,
      "grid_gap": null,
      "grid_row": null,
      "grid_template_areas": null,
      "grid_template_columns": null,
      "grid_template_rows": null,
      "height": null,
      "justify_content": null,
      "justify_items": null,
      "left": null,
      "margin": null,
      "max_height": null,
      "max_width": null,
      "min_height": null,
      "min_width": null,
      "object_fit": null,
      "object_position": null,
      "order": null,
      "overflow": null,
      "overflow_x": null,
      "overflow_y": null,
      "padding": null,
      "right": null,
      "top": null,
      "visibility": null,
      "width": null
     }
    },
    "4fc4717d62114d0d80c90474d7178d15": {
     "model_module": "@jupyter-widgets/controls",
     "model_module_version": "1.5.0",
     "model_name": "HBoxModel",
     "state": {
      "_dom_classes": [],
      "_model_module": "@jupyter-widgets/controls",
      "_model_module_version": "1.5.0",
      "_model_name": "HBoxModel",
      "_view_count": null,
      "_view_module": "@jupyter-widgets/controls",
      "_view_module_version": "1.5.0",
      "_view_name": "HBoxView",
      "box_style": "",
      "children": [
       "IPY_MODEL_bea8d449a68648a69a7d20999c1f96fc",
       "IPY_MODEL_dff9f4e69f904867a83e887ebd35dcc4",
       "IPY_MODEL_687fff3178e148e985505d5511a66321"
      ],
      "layout": "IPY_MODEL_6111af6c879140e7b2f2c14a40016a1d"
     }
    },
    "5de95af82e8a437d8966cb80a529dabe": {
     "model_module": "@jupyter-widgets/controls",
     "model_module_version": "1.5.0",
     "model_name": "HBoxModel",
     "state": {
      "_dom_classes": [],
      "_model_module": "@jupyter-widgets/controls",
      "_model_module_version": "1.5.0",
      "_model_name": "HBoxModel",
      "_view_count": null,
      "_view_module": "@jupyter-widgets/controls",
      "_view_module_version": "1.5.0",
      "_view_name": "HBoxView",
      "box_style": "",
      "children": [
       "IPY_MODEL_6cb1ee072cfd486b990cb652e37724d5",
       "IPY_MODEL_61b2009ad7574cbfa82c6487582e2f49",
       "IPY_MODEL_2d1ef7b4460347848d54b81446677b36"
      ],
      "layout": "IPY_MODEL_482bdbdbdf8c4eb5ad9eb5247e34829d"
     }
    },
    "5e4ab9cff9dc43c99c7d555d61af0dcf": {
     "model_module": "@jupyter-widgets/controls",
     "model_module_version": "1.5.0",
     "model_name": "DescriptionStyleModel",
     "state": {
      "_model_module": "@jupyter-widgets/controls",
      "_model_module_version": "1.5.0",
      "_model_name": "DescriptionStyleModel",
      "_view_count": null,
      "_view_module": "@jupyter-widgets/base",
      "_view_module_version": "1.2.0",
      "_view_name": "StyleView",
      "description_width": ""
     }
    },
    "5fdfb27eaceb46fcb1783504a5c72f03": {
     "model_module": "@jupyter-widgets/base",
     "model_module_version": "1.2.0",
     "model_name": "LayoutModel",
     "state": {
      "_model_module": "@jupyter-widgets/base",
      "_model_module_version": "1.2.0",
      "_model_name": "LayoutModel",
      "_view_count": null,
      "_view_module": "@jupyter-widgets/base",
      "_view_module_version": "1.2.0",
      "_view_name": "LayoutView",
      "align_content": null,
      "align_items": null,
      "align_self": null,
      "border": null,
      "bottom": null,
      "display": null,
      "flex": null,
      "flex_flow": null,
      "grid_area": null,
      "grid_auto_columns": null,
      "grid_auto_flow": null,
      "grid_auto_rows": null,
      "grid_column": null,
      "grid_gap": null,
      "grid_row": null,
      "grid_template_areas": null,
      "grid_template_columns": null,
      "grid_template_rows": null,
      "height": null,
      "justify_content": null,
      "justify_items": null,
      "left": null,
      "margin": null,
      "max_height": null,
      "max_width": null,
      "min_height": null,
      "min_width": null,
      "object_fit": null,
      "object_position": null,
      "order": null,
      "overflow": null,
      "overflow_x": null,
      "overflow_y": null,
      "padding": null,
      "right": null,
      "top": null,
      "visibility": null,
      "width": null
     }
    },
    "6111af6c879140e7b2f2c14a40016a1d": {
     "model_module": "@jupyter-widgets/base",
     "model_module_version": "1.2.0",
     "model_name": "LayoutModel",
     "state": {
      "_model_module": "@jupyter-widgets/base",
      "_model_module_version": "1.2.0",
      "_model_name": "LayoutModel",
      "_view_count": null,
      "_view_module": "@jupyter-widgets/base",
      "_view_module_version": "1.2.0",
      "_view_name": "LayoutView",
      "align_content": null,
      "align_items": null,
      "align_self": null,
      "border": null,
      "bottom": null,
      "display": null,
      "flex": null,
      "flex_flow": null,
      "grid_area": null,
      "grid_auto_columns": null,
      "grid_auto_flow": null,
      "grid_auto_rows": null,
      "grid_column": null,
      "grid_gap": null,
      "grid_row": null,
      "grid_template_areas": null,
      "grid_template_columns": null,
      "grid_template_rows": null,
      "height": null,
      "justify_content": null,
      "justify_items": null,
      "left": null,
      "margin": null,
      "max_height": null,
      "max_width": null,
      "min_height": null,
      "min_width": null,
      "object_fit": null,
      "object_position": null,
      "order": null,
      "overflow": null,
      "overflow_x": null,
      "overflow_y": null,
      "padding": null,
      "right": null,
      "top": null,
      "visibility": null,
      "width": null
     }
    },
    "61b2009ad7574cbfa82c6487582e2f49": {
     "model_module": "@jupyter-widgets/controls",
     "model_module_version": "1.5.0",
     "model_name": "FloatProgressModel",
     "state": {
      "_dom_classes": [],
      "_model_module": "@jupyter-widgets/controls",
      "_model_module_version": "1.5.0",
      "_model_name": "FloatProgressModel",
      "_view_count": null,
      "_view_module": "@jupyter-widgets/controls",
      "_view_module_version": "1.5.0",
      "_view_name": "ProgressView",
      "bar_style": "success",
      "description": "",
      "description_tooltip": null,
      "layout": "IPY_MODEL_0cdc43dae606426e94955e72d4615797",
      "max": 50000,
      "min": 0,
      "orientation": "horizontal",
      "style": "IPY_MODEL_138e27e54f224e4e85dfbf46c1fa629f",
      "value": 50000
     }
    },
    "687fff3178e148e985505d5511a66321": {
     "model_module": "@jupyter-widgets/controls",
     "model_module_version": "1.5.0",
     "model_name": "HTMLModel",
     "state": {
      "_dom_classes": [],
      "_model_module": "@jupyter-widgets/controls",
      "_model_module_version": "1.5.0",
      "_model_name": "HTMLModel",
      "_view_count": null,
      "_view_module": "@jupyter-widgets/controls",
      "_view_module_version": "1.5.0",
      "_view_name": "HTMLView",
      "description": "",
      "description_tooltip": null,
      "layout": "IPY_MODEL_e74e6b99fff144c3a3a7ea06eb180c4d",
      "placeholder": "​",
      "style": "IPY_MODEL_796055476d864fd3809b76d8eeada803",
      "value": " 50000/50000 [00:00&lt;00:00, 187985.46 examples/s]"
     }
    },
    "6a63f31a26b940899a7c57b6ec9026bc": {
     "model_module": "@jupyter-widgets/controls",
     "model_module_version": "1.5.0",
     "model_name": "FloatProgressModel",
     "state": {
      "_dom_classes": [],
      "_model_module": "@jupyter-widgets/controls",
      "_model_module_version": "1.5.0",
      "_model_name": "FloatProgressModel",
      "_view_count": null,
      "_view_module": "@jupyter-widgets/controls",
      "_view_module_version": "1.5.0",
      "_view_name": "ProgressView",
      "bar_style": "success",
      "description": "",
      "description_tooltip": null,
      "layout": "IPY_MODEL_1922f36f16fe4d3eac8ae81f6d7925b5",
      "max": 17660065,
      "min": 0,
      "orientation": "horizontal",
      "style": "IPY_MODEL_fa40208bd4e44dd283fe4b780a3bdcf9",
      "value": 17660065
     }
    },
    "6cb1ee072cfd486b990cb652e37724d5": {
     "model_module": "@jupyter-widgets/controls",
     "model_module_version": "1.5.0",
     "model_name": "HTMLModel",
     "state": {
      "_dom_classes": [],
      "_model_module": "@jupyter-widgets/controls",
      "_model_module_version": "1.5.0",
      "_model_name": "HTMLModel",
      "_view_count": null,
      "_view_module": "@jupyter-widgets/controls",
      "_view_module_version": "1.5.0",
      "_view_name": "HTMLView",
      "description": "",
      "description_tooltip": null,
      "layout": "IPY_MODEL_bbd4edc460b54957b3f39e229ae37956",
      "placeholder": "​",
      "style": "IPY_MODEL_14c953bd81ac448bae61019179a9c080",
      "value": "Generating train split: 100%"
     }
    },
    "72b3cdbf4fcc44e3aeb60cf0afefb889": {
     "model_module": "@jupyter-widgets/controls",
     "model_module_version": "1.5.0",
     "model_name": "HTMLModel",
     "state": {
      "_dom_classes": [],
      "_model_module": "@jupyter-widgets/controls",
      "_model_module_version": "1.5.0",
      "_model_name": "HTMLModel",
      "_view_count": null,
      "_view_module": "@jupyter-widgets/controls",
      "_view_module_version": "1.5.0",
      "_view_name": "HTMLView",
      "description": "",
      "description_tooltip": null,
      "layout": "IPY_MODEL_beb313765abe4314bbc51a1a1de31d48",
      "placeholder": "​",
      "style": "IPY_MODEL_c8a7f9ee3f934b3fafe93040825465a7",
      "value": " 17.7M/17.7M [00:00&lt;00:00, 21.9MB/s]"
     }
    },
    "796055476d864fd3809b76d8eeada803": {
     "model_module": "@jupyter-widgets/controls",
     "model_module_version": "1.5.0",
     "model_name": "DescriptionStyleModel",
     "state": {
      "_model_module": "@jupyter-widgets/controls",
      "_model_module_version": "1.5.0",
      "_model_name": "DescriptionStyleModel",
      "_view_count": null,
      "_view_module": "@jupyter-widgets/base",
      "_view_module_version": "1.2.0",
      "_view_name": "StyleView",
      "description_width": ""
     }
    },
    "7dd31aa94d59490caf390df437916d90": {
     "model_module": "@jupyter-widgets/base",
     "model_module_version": "1.2.0",
     "model_name": "LayoutModel",
     "state": {
      "_model_module": "@jupyter-widgets/base",
      "_model_module_version": "1.2.0",
      "_model_name": "LayoutModel",
      "_view_count": null,
      "_view_module": "@jupyter-widgets/base",
      "_view_module_version": "1.2.0",
      "_view_name": "LayoutView",
      "align_content": null,
      "align_items": null,
      "align_self": null,
      "border": null,
      "bottom": null,
      "display": null,
      "flex": null,
      "flex_flow": null,
      "grid_area": null,
      "grid_auto_columns": null,
      "grid_auto_flow": null,
      "grid_auto_rows": null,
      "grid_column": null,
      "grid_gap": null,
      "grid_row": null,
      "grid_template_areas": null,
      "grid_template_columns": null,
      "grid_template_rows": null,
      "height": null,
      "justify_content": null,
      "justify_items": null,
      "left": null,
      "margin": null,
      "max_height": null,
      "max_width": null,
      "min_height": null,
      "min_width": null,
      "object_fit": null,
      "object_position": null,
      "order": null,
      "overflow": null,
      "overflow_x": null,
      "overflow_y": null,
      "padding": null,
      "right": null,
      "top": null,
      "visibility": null,
      "width": null
     }
    },
    "8177086e47474f91967083e631b8a84f": {
     "model_module": "@jupyter-widgets/controls",
     "model_module_version": "1.5.0",
     "model_name": "DescriptionStyleModel",
     "state": {
      "_model_module": "@jupyter-widgets/controls",
      "_model_module_version": "1.5.0",
      "_model_name": "DescriptionStyleModel",
      "_view_count": null,
      "_view_module": "@jupyter-widgets/base",
      "_view_module_version": "1.2.0",
      "_view_name": "StyleView",
      "description_width": ""
     }
    },
    "840595bb768247249610d327837df6c3": {
     "model_module": "@jupyter-widgets/controls",
     "model_module_version": "1.5.0",
     "model_name": "HTMLModel",
     "state": {
      "_dom_classes": [],
      "_model_module": "@jupyter-widgets/controls",
      "_model_module_version": "1.5.0",
      "_model_name": "HTMLModel",
      "_view_count": null,
      "_view_module": "@jupyter-widgets/controls",
      "_view_module_version": "1.5.0",
      "_view_name": "HTMLView",
      "description": "",
      "description_tooltip": null,
      "layout": "IPY_MODEL_7dd31aa94d59490caf390df437916d90",
      "placeholder": "​",
      "style": "IPY_MODEL_2aeca17fe5644540b0f9c46e86c8675e",
      "value": "Downloading data: 100%"
     }
    },
    "9c2d4d6fb5454baf8edd6002c96bfde1": {
     "model_module": "@jupyter-widgets/controls",
     "model_module_version": "1.5.0",
     "model_name": "HBoxModel",
     "state": {
      "_dom_classes": [],
      "_model_module": "@jupyter-widgets/controls",
      "_model_module_version": "1.5.0",
      "_model_name": "HBoxModel",
      "_view_count": null,
      "_view_module": "@jupyter-widgets/controls",
      "_view_module_version": "1.5.0",
      "_view_name": "HBoxView",
      "box_style": "",
      "children": [
       "IPY_MODEL_b3787e635c9c49e28c23ac0ec7ef4cdb",
       "IPY_MODEL_6a63f31a26b940899a7c57b6ec9026bc",
       "IPY_MODEL_72b3cdbf4fcc44e3aeb60cf0afefb889"
      ],
      "layout": "IPY_MODEL_d92994fe9db14285a966b4c8a3470f8f"
     }
    },
    "a5ff068f1aa1462e8d9bf38641a29aea": {
     "model_module": "@jupyter-widgets/controls",
     "model_module_version": "1.5.0",
     "model_name": "HBoxModel",
     "state": {
      "_dom_classes": [],
      "_model_module": "@jupyter-widgets/controls",
      "_model_module_version": "1.5.0",
      "_model_name": "HBoxModel",
      "_view_count": null,
      "_view_module": "@jupyter-widgets/controls",
      "_view_module_version": "1.5.0",
      "_view_name": "HBoxView",
      "box_style": "",
      "children": [
       "IPY_MODEL_840595bb768247249610d327837df6c3",
       "IPY_MODEL_c5915dcf005746d2891306fad974000e",
       "IPY_MODEL_f8478af4f5a049c682029fa9b26101b5"
      ],
      "layout": "IPY_MODEL_e235d3bd03c2416d947460cb14dec0ee"
     }
    },
    "b3787e635c9c49e28c23ac0ec7ef4cdb": {
     "model_module": "@jupyter-widgets/controls",
     "model_module_version": "1.5.0",
     "model_name": "HTMLModel",
     "state": {
      "_dom_classes": [],
      "_model_module": "@jupyter-widgets/controls",
      "_model_module_version": "1.5.0",
      "_model_name": "HTMLModel",
      "_view_count": null,
      "_view_module": "@jupyter-widgets/controls",
      "_view_module_version": "1.5.0",
      "_view_name": "HTMLView",
      "description": "",
      "description_tooltip": null,
      "layout": "IPY_MODEL_5fdfb27eaceb46fcb1783504a5c72f03",
      "placeholder": "​",
      "style": "IPY_MODEL_e862855785be4d188ce2afc7a2033513",
      "value": "Downloading data: 100%"
     }
    },
    "bbd4edc460b54957b3f39e229ae37956": {
     "model_module": "@jupyter-widgets/base",
     "model_module_version": "1.2.0",
     "model_name": "LayoutModel",
     "state": {
      "_model_module": "@jupyter-widgets/base",
      "_model_module_version": "1.2.0",
      "_model_name": "LayoutModel",
      "_view_count": null,
      "_view_module": "@jupyter-widgets/base",
      "_view_module_version": "1.2.0",
      "_view_name": "LayoutView",
      "align_content": null,
      "align_items": null,
      "align_self": null,
      "border": null,
      "bottom": null,
      "display": null,
      "flex": null,
      "flex_flow": null,
      "grid_area": null,
      "grid_auto_columns": null,
      "grid_auto_flow": null,
      "grid_auto_rows": null,
      "grid_column": null,
      "grid_gap": null,
      "grid_row": null,
      "grid_template_areas": null,
      "grid_template_columns": null,
      "grid_template_rows": null,
      "height": null,
      "justify_content": null,
      "justify_items": null,
      "left": null,
      "margin": null,
      "max_height": null,
      "max_width": null,
      "min_height": null,
      "min_width": null,
      "object_fit": null,
      "object_position": null,
      "order": null,
      "overflow": null,
      "overflow_x": null,
      "overflow_y": null,
      "padding": null,
      "right": null,
      "top": null,
      "visibility": null,
      "width": null
     }
    },
    "bea8d449a68648a69a7d20999c1f96fc": {
     "model_module": "@jupyter-widgets/controls",
     "model_module_version": "1.5.0",
     "model_name": "HTMLModel",
     "state": {
      "_dom_classes": [],
      "_model_module": "@jupyter-widgets/controls",
      "_model_module_version": "1.5.0",
      "_model_name": "HTMLModel",
      "_view_count": null,
      "_view_module": "@jupyter-widgets/controls",
      "_view_module_version": "1.5.0",
      "_view_name": "HTMLView",
      "description": "",
      "description_tooltip": null,
      "layout": "IPY_MODEL_d287e027395e4931b4c3abbeabba1b61",
      "placeholder": "​",
      "style": "IPY_MODEL_1d258fa8a38145109ff0c629e277a40e",
      "value": "Generating test split: 100%"
     }
    },
    "beb313765abe4314bbc51a1a1de31d48": {
     "model_module": "@jupyter-widgets/base",
     "model_module_version": "1.2.0",
     "model_name": "LayoutModel",
     "state": {
      "_model_module": "@jupyter-widgets/base",
      "_model_module_version": "1.2.0",
      "_model_name": "LayoutModel",
      "_view_count": null,
      "_view_module": "@jupyter-widgets/base",
      "_view_module_version": "1.2.0",
      "_view_name": "LayoutView",
      "align_content": null,
      "align_items": null,
      "align_self": null,
      "border": null,
      "bottom": null,
      "display": null,
      "flex": null,
      "flex_flow": null,
      "grid_area": null,
      "grid_auto_columns": null,
      "grid_auto_flow": null,
      "grid_auto_rows": null,
      "grid_column": null,
      "grid_gap": null,
      "grid_row": null,
      "grid_template_areas": null,
      "grid_template_columns": null,
      "grid_template_rows": null,
      "height": null,
      "justify_content": null,
      "justify_items": null,
      "left": null,
      "margin": null,
      "max_height": null,
      "max_width": null,
      "min_height": null,
      "min_width": null,
      "object_fit": null,
      "object_position": null,
      "order": null,
      "overflow": null,
      "overflow_x": null,
      "overflow_y": null,
      "padding": null,
      "right": null,
      "top": null,
      "visibility": null,
      "width": null
     }
    },
    "c5915dcf005746d2891306fad974000e": {
     "model_module": "@jupyter-widgets/controls",
     "model_module_version": "1.5.0",
     "model_name": "FloatProgressModel",
     "state": {
      "_dom_classes": [],
      "_model_module": "@jupyter-widgets/controls",
      "_model_module_version": "1.5.0",
      "_model_name": "FloatProgressModel",
      "_view_count": null,
      "_view_module": "@jupyter-widgets/controls",
      "_view_module_version": "1.5.0",
      "_view_name": "ProgressView",
      "bar_style": "success",
      "description": "",
      "description_tooltip": null,
      "layout": "IPY_MODEL_f8f4ea7a92af443db4e987f985ef6a6a",
      "max": 17546214,
      "min": 0,
      "orientation": "horizontal",
      "style": "IPY_MODEL_45b2013f8d2e4253ae04490a1954db0b",
      "value": 17546214
     }
    },
    "c8a7f9ee3f934b3fafe93040825465a7": {
     "model_module": "@jupyter-widgets/controls",
     "model_module_version": "1.5.0",
     "model_name": "DescriptionStyleModel",
     "state": {
      "_model_module": "@jupyter-widgets/controls",
      "_model_module_version": "1.5.0",
      "_model_name": "DescriptionStyleModel",
      "_view_count": null,
      "_view_module": "@jupyter-widgets/base",
      "_view_module_version": "1.2.0",
      "_view_name": "StyleView",
      "description_width": ""
     }
    },
    "d287e027395e4931b4c3abbeabba1b61": {
     "model_module": "@jupyter-widgets/base",
     "model_module_version": "1.2.0",
     "model_name": "LayoutModel",
     "state": {
      "_model_module": "@jupyter-widgets/base",
      "_model_module_version": "1.2.0",
      "_model_name": "LayoutModel",
      "_view_count": null,
      "_view_module": "@jupyter-widgets/base",
      "_view_module_version": "1.2.0",
      "_view_name": "LayoutView",
      "align_content": null,
      "align_items": null,
      "align_self": null,
      "border": null,
      "bottom": null,
      "display": null,
      "flex": null,
      "flex_flow": null,
      "grid_area": null,
      "grid_auto_columns": null,
      "grid_auto_flow": null,
      "grid_auto_rows": null,
      "grid_column": null,
      "grid_gap": null,
      "grid_row": null,
      "grid_template_areas": null,
      "grid_template_columns": null,
      "grid_template_rows": null,
      "height": null,
      "justify_content": null,
      "justify_items": null,
      "left": null,
      "margin": null,
      "max_height": null,
      "max_width": null,
      "min_height": null,
      "min_width": null,
      "object_fit": null,
      "object_position": null,
      "order": null,
      "overflow": null,
      "overflow_x": null,
      "overflow_y": null,
      "padding": null,
      "right": null,
      "top": null,
      "visibility": null,
      "width": null
     }
    },
    "d92994fe9db14285a966b4c8a3470f8f": {
     "model_module": "@jupyter-widgets/base",
     "model_module_version": "1.2.0",
     "model_name": "LayoutModel",
     "state": {
      "_model_module": "@jupyter-widgets/base",
      "_model_module_version": "1.2.0",
      "_model_name": "LayoutModel",
      "_view_count": null,
      "_view_module": "@jupyter-widgets/base",
      "_view_module_version": "1.2.0",
      "_view_name": "LayoutView",
      "align_content": null,
      "align_items": null,
      "align_self": null,
      "border": null,
      "bottom": null,
      "display": null,
      "flex": null,
      "flex_flow": null,
      "grid_area": null,
      "grid_auto_columns": null,
      "grid_auto_flow": null,
      "grid_auto_rows": null,
      "grid_column": null,
      "grid_gap": null,
      "grid_row": null,
      "grid_template_areas": null,
      "grid_template_columns": null,
      "grid_template_rows": null,
      "height": null,
      "justify_content": null,
      "justify_items": null,
      "left": null,
      "margin": null,
      "max_height": null,
      "max_width": null,
      "min_height": null,
      "min_width": null,
      "object_fit": null,
      "object_position": null,
      "order": null,
      "overflow": null,
      "overflow_x": null,
      "overflow_y": null,
      "padding": null,
      "right": null,
      "top": null,
      "visibility": null,
      "width": null
     }
    },
    "dff9f4e69f904867a83e887ebd35dcc4": {
     "model_module": "@jupyter-widgets/controls",
     "model_module_version": "1.5.0",
     "model_name": "FloatProgressModel",
     "state": {
      "_dom_classes": [],
      "_model_module": "@jupyter-widgets/controls",
      "_model_module_version": "1.5.0",
      "_model_name": "FloatProgressModel",
      "_view_count": null,
      "_view_module": "@jupyter-widgets/controls",
      "_view_module_version": "1.5.0",
      "_view_name": "ProgressView",
      "bar_style": "success",
      "description": "",
      "description_tooltip": null,
      "layout": "IPY_MODEL_4ae4c0b7b8dc4750aefc07bf830a8555",
      "max": 50000,
      "min": 0,
      "orientation": "horizontal",
      "style": "IPY_MODEL_e41541212c3c4344834654f25f125d84",
      "value": 50000
     }
    },
    "e235d3bd03c2416d947460cb14dec0ee": {
     "model_module": "@jupyter-widgets/base",
     "model_module_version": "1.2.0",
     "model_name": "LayoutModel",
     "state": {
      "_model_module": "@jupyter-widgets/base",
      "_model_module_version": "1.2.0",
      "_model_name": "LayoutModel",
      "_view_count": null,
      "_view_module": "@jupyter-widgets/base",
      "_view_module_version": "1.2.0",
      "_view_name": "LayoutView",
      "align_content": null,
      "align_items": null,
      "align_self": null,
      "border": null,
      "bottom": null,
      "display": null,
      "flex": null,
      "flex_flow": null,
      "grid_area": null,
      "grid_auto_columns": null,
      "grid_auto_flow": null,
      "grid_auto_rows": null,
      "grid_column": null,
      "grid_gap": null,
      "grid_row": null,
      "grid_template_areas": null,
      "grid_template_columns": null,
      "grid_template_rows": null,
      "height": null,
      "justify_content": null,
      "justify_items": null,
      "left": null,
      "margin": null,
      "max_height": null,
      "max_width": null,
      "min_height": null,
      "min_width": null,
      "object_fit": null,
      "object_position": null,
      "order": null,
      "overflow": null,
      "overflow_x": null,
      "overflow_y": null,
      "padding": null,
      "right": null,
      "top": null,
      "visibility": null,
      "width": null
     }
    },
    "e3d91f10e5994beb9173638053a67201": {
     "model_module": "@jupyter-widgets/base",
     "model_module_version": "1.2.0",
     "model_name": "LayoutModel",
     "state": {
      "_model_module": "@jupyter-widgets/base",
      "_model_module_version": "1.2.0",
      "_model_name": "LayoutModel",
      "_view_count": null,
      "_view_module": "@jupyter-widgets/base",
      "_view_module_version": "1.2.0",
      "_view_name": "LayoutView",
      "align_content": null,
      "align_items": null,
      "align_self": null,
      "border": null,
      "bottom": null,
      "display": null,
      "flex": null,
      "flex_flow": null,
      "grid_area": null,
      "grid_auto_columns": null,
      "grid_auto_flow": null,
      "grid_auto_rows": null,
      "grid_column": null,
      "grid_gap": null,
      "grid_row": null,
      "grid_template_areas": null,
      "grid_template_columns": null,
      "grid_template_rows": null,
      "height": null,
      "justify_content": null,
      "justify_items": null,
      "left": null,
      "margin": null,
      "max_height": null,
      "max_width": null,
      "min_height": null,
      "min_width": null,
      "object_fit": null,
      "object_position": null,
      "order": null,
      "overflow": null,
      "overflow_x": null,
      "overflow_y": null,
      "padding": null,
      "right": null,
      "top": null,
      "visibility": null,
      "width": null
     }
    },
    "e41541212c3c4344834654f25f125d84": {
     "model_module": "@jupyter-widgets/controls",
     "model_module_version": "1.5.0",
     "model_name": "ProgressStyleModel",
     "state": {
      "_model_module": "@jupyter-widgets/controls",
      "_model_module_version": "1.5.0",
      "_model_name": "ProgressStyleModel",
      "_view_count": null,
      "_view_module": "@jupyter-widgets/base",
      "_view_module_version": "1.2.0",
      "_view_name": "StyleView",
      "bar_color": null,
      "description_width": ""
     }
    },
    "e74e6b99fff144c3a3a7ea06eb180c4d": {
     "model_module": "@jupyter-widgets/base",
     "model_module_version": "1.2.0",
     "model_name": "LayoutModel",
     "state": {
      "_model_module": "@jupyter-widgets/base",
      "_model_module_version": "1.2.0",
      "_model_name": "LayoutModel",
      "_view_count": null,
      "_view_module": "@jupyter-widgets/base",
      "_view_module_version": "1.2.0",
      "_view_name": "LayoutView",
      "align_content": null,
      "align_items": null,
      "align_self": null,
      "border": null,
      "bottom": null,
      "display": null,
      "flex": null,
      "flex_flow": null,
      "grid_area": null,
      "grid_auto_columns": null,
      "grid_auto_flow": null,
      "grid_auto_rows": null,
      "grid_column": null,
      "grid_gap": null,
      "grid_row": null,
      "grid_template_areas": null,
      "grid_template_columns": null,
      "grid_template_rows": null,
      "height": null,
      "justify_content": null,
      "justify_items": null,
      "left": null,
      "margin": null,
      "max_height": null,
      "max_width": null,
      "min_height": null,
      "min_width": null,
      "object_fit": null,
      "object_position": null,
      "order": null,
      "overflow": null,
      "overflow_x": null,
      "overflow_y": null,
      "padding": null,
      "right": null,
      "top": null,
      "visibility": null,
      "width": null
     }
    },
    "e862855785be4d188ce2afc7a2033513": {
     "model_module": "@jupyter-widgets/controls",
     "model_module_version": "1.5.0",
     "model_name": "DescriptionStyleModel",
     "state": {
      "_model_module": "@jupyter-widgets/controls",
      "_model_module_version": "1.5.0",
      "_model_name": "DescriptionStyleModel",
      "_view_count": null,
      "_view_module": "@jupyter-widgets/base",
      "_view_module_version": "1.2.0",
      "_view_name": "StyleView",
      "description_width": ""
     }
    },
    "f8478af4f5a049c682029fa9b26101b5": {
     "model_module": "@jupyter-widgets/controls",
     "model_module_version": "1.5.0",
     "model_name": "HTMLModel",
     "state": {
      "_dom_classes": [],
      "_model_module": "@jupyter-widgets/controls",
      "_model_module_version": "1.5.0",
      "_model_name": "HTMLModel",
      "_view_count": null,
      "_view_module": "@jupyter-widgets/controls",
      "_view_module_version": "1.5.0",
      "_view_name": "HTMLView",
      "description": "",
      "description_tooltip": null,
      "layout": "IPY_MODEL_e3d91f10e5994beb9173638053a67201",
      "placeholder": "​",
      "style": "IPY_MODEL_5e4ab9cff9dc43c99c7d555d61af0dcf",
      "value": " 17.5M/17.5M [00:00&lt;00:00, 17.8MB/s]"
     }
    },
    "f8f4ea7a92af443db4e987f985ef6a6a": {
     "model_module": "@jupyter-widgets/base",
     "model_module_version": "1.2.0",
     "model_name": "LayoutModel",
     "state": {
      "_model_module": "@jupyter-widgets/base",
      "_model_module_version": "1.2.0",
      "_model_name": "LayoutModel",
      "_view_count": null,
      "_view_module": "@jupyter-widgets/base",
      "_view_module_version": "1.2.0",
      "_view_name": "LayoutView",
      "align_content": null,
      "align_items": null,
      "align_self": null,
      "border": null,
      "bottom": null,
      "display": null,
      "flex": null,
      "flex_flow": null,
      "grid_area": null,
      "grid_auto_columns": null,
      "grid_auto_flow": null,
      "grid_auto_rows": null,
      "grid_column": null,
      "grid_gap": null,
      "grid_row": null,
      "grid_template_areas": null,
      "grid_template_columns": null,
      "grid_template_rows": null,
      "height": null,
      "justify_content": null,
      "justify_items": null,
      "left": null,
      "margin": null,
      "max_height": null,
      "max_width": null,
      "min_height": null,
      "min_width": null,
      "object_fit": null,
      "object_position": null,
      "order": null,
      "overflow": null,
      "overflow_x": null,
      "overflow_y": null,
      "padding": null,
      "right": null,
      "top": null,
      "visibility": null,
      "width": null
     }
    },
    "fa40208bd4e44dd283fe4b780a3bdcf9": {
     "model_module": "@jupyter-widgets/controls",
     "model_module_version": "1.5.0",
     "model_name": "ProgressStyleModel",
     "state": {
      "_model_module": "@jupyter-widgets/controls",
      "_model_module_version": "1.5.0",
      "_model_name": "ProgressStyleModel",
      "_view_count": null,
      "_view_module": "@jupyter-widgets/base",
      "_view_module_version": "1.2.0",
      "_view_name": "StyleView",
      "bar_color": null,
      "description_width": ""
     }
    }
   }
  }
 },
 "nbformat": 4,
 "nbformat_minor": 0
}
